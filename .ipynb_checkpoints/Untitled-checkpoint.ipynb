{
 "cells": [
  {
   "cell_type": "code",
   "execution_count": 6,
   "id": "ccbb685a",
   "metadata": {},
   "outputs": [],
   "source": [
    "from get_dataset import dataset\n",
    "import pandas as pd\n",
    "import re\n",
    "from nltk import word_tokenize\n",
    "from nltk.corpus import stopwords\n",
    "from sklearn.metrics.pairwise import euclidean_distances as euclidean"
   ]
  },
  {
   "cell_type": "code",
   "execution_count": 2,
   "id": "f2d6aeda",
   "metadata": {},
   "outputs": [],
   "source": [
    "data = dataset()"
   ]
  },
  {
   "cell_type": "code",
   "execution_count": 5,
   "id": "99184d60",
   "metadata": {
    "collapsed": true
   },
   "outputs": [
    {
     "data": {
      "text/html": [
       "<div>\n",
       "<style scoped>\n",
       "    .dataframe tbody tr th:only-of-type {\n",
       "        vertical-align: middle;\n",
       "    }\n",
       "\n",
       "    .dataframe tbody tr th {\n",
       "        vertical-align: top;\n",
       "    }\n",
       "\n",
       "    .dataframe thead th {\n",
       "        text-align: right;\n",
       "    }\n",
       "</style>\n",
       "<table border=\"1\" class=\"dataframe\">\n",
       "  <thead>\n",
       "    <tr style=\"text-align: right;\">\n",
       "      <th></th>\n",
       "      <th>texto</th>\n",
       "      <th>nivel</th>\n",
       "    </tr>\n",
       "  </thead>\n",
       "  <tbody>\n",
       "    <tr>\n",
       "      <th>0</th>\n",
       "      <td>Em 1819, com o fim de povoar o Brasil e torná...</td>\n",
       "      <td>3_Ensino_Medio</td>\n",
       "    </tr>\n",
       "    <tr>\n",
       "      <th>1</th>\n",
       "      <td>Mecânica dos fluidos/Capa\\nMecânica dos fluido...</td>\n",
       "      <td>4_Ensino_Superior</td>\n",
       "    </tr>\n",
       "    <tr>\n",
       "      <th>2</th>\n",
       "      <td>Essa seção mostra passo-a-passo como o \"DBSca...</td>\n",
       "      <td>4_Ensino_Superior</td>\n",
       "    </tr>\n",
       "    <tr>\n",
       "      <th>3</th>\n",
       "      <td>Curiosidades. O uso de animais para a realizaç...</td>\n",
       "      <td>2_Ensino_Fundamental_II</td>\n",
       "    </tr>\n",
       "    <tr>\n",
       "      <th>4</th>\n",
       "      <td>Português/Fonema/Classificação das vogais\\nAs ...</td>\n",
       "      <td>3_Ensino_Medio</td>\n",
       "    </tr>\n",
       "  </tbody>\n",
       "</table>\n",
       "</div>"
      ],
      "text/plain": [
       "                                               texto                    nivel\n",
       "0   Em 1819, com o fim de povoar o Brasil e torná...           3_Ensino_Medio\n",
       "1  Mecânica dos fluidos/Capa\\nMecânica dos fluido...        4_Ensino_Superior\n",
       "2   Essa seção mostra passo-a-passo como o \"DBSca...        4_Ensino_Superior\n",
       "3  Curiosidades. O uso de animais para a realizaç...  2_Ensino_Fundamental_II\n",
       "4  Português/Fonema/Classificação das vogais\\nAs ...           3_Ensino_Medio"
      ]
     },
     "execution_count": 5,
     "metadata": {},
     "output_type": "execute_result"
    }
   ],
   "source": [
    "dataset_df = pd.DataFrame(data)\n",
    "dataset_df.columns = ['texto', 'nivel']\n",
    "dataset_df.head()"
   ]
  },
  {
   "cell_type": "code",
   "execution_count": 15,
   "id": "fdf92721",
   "metadata": {},
   "outputs": [],
   "source": [
    "def limpar_texto(texto):\n",
    "    stop_words = stopwords.words('portuguese')\n",
    "    texto = re.sub(r'([^\\w\\s]|_)+', ' ', texto.lower())\n",
    "    tokens = word_tokenize(texto)\n",
    "    tokens_sem_stopwords = [token for token in tokens if token not in stop_words]\n",
    "    return ' '.join(tokens_sem_stopwords)"
   ]
  },
  {
   "cell_type": "code",
   "execution_count": 16,
   "id": "7904c852",
   "metadata": {},
   "outputs": [],
   "source": [
    "dataset_df['texto_limpo'] = dataset_df['texto'].apply(lambda x: limpar_texto(str(x)))"
   ]
  },
  {
   "cell_type": "code",
   "execution_count": 17,
   "id": "e36ea992",
   "metadata": {
    "collapsed": true
   },
   "outputs": [
    {
     "data": {
      "text/plain": [
       "0    1819 fim povoar brasil torná lo europeu termos...\n",
       "1    mecânica fluidos capa mecânica fluidos primeir...\n",
       "2    seção mostra passo passo dbscan realiza agrupa...\n",
       "3    curiosidades uso animais realização testes med...\n",
       "4    português fonema classificação vogais vogais l...\n",
       "Name: texto_limpo, dtype: object"
      ]
     },
     "execution_count": 17,
     "metadata": {},
     "output_type": "execute_result"
    }
   ],
   "source": [
    "dataset_df['texto_limpo'].head()"
   ]
  },
  {
   "cell_type": "code",
   "execution_count": 18,
   "id": "fb84e1b2",
   "metadata": {},
   "outputs": [],
   "source": [
    "dataset_df['tamanho_texto'] = dataset_df['texto_limpo'].apply(lambda x: len(str(x).split()))"
   ]
  },
  {
   "cell_type": "code",
   "execution_count": 19,
   "id": "e5e7ea58",
   "metadata": {
    "collapsed": true
   },
   "outputs": [
    {
     "data": {
      "text/plain": [
       "0    207\n",
       "1    389\n",
       "2    184\n",
       "3    281\n",
       "4    214\n",
       "Name: tamanho_texto, dtype: int64"
      ]
     },
     "execution_count": 19,
     "metadata": {},
     "output_type": "execute_result"
    }
   ],
   "source": [
    "dataset_df['tamanho_texto'].head()"
   ]
  },
  {
   "cell_type": "code",
   "execution_count": 22,
   "id": "02334c54",
   "metadata": {},
   "outputs": [],
   "source": [
    "dataset_df['tamanho_medio'] = dataset_df['texto_limpo'].apply(lambda x: sum([len(i) for i in str(x).split()])/len(str(x).split()))"
   ]
  },
  {
   "cell_type": "code",
   "execution_count": 23,
   "id": "3851f6f5",
   "metadata": {
    "collapsed": true
   },
   "outputs": [
    {
     "data": {
      "text/plain": [
       "0    6.681159\n",
       "1    6.092545\n",
       "2    7.222826\n",
       "3    7.370107\n",
       "4    6.855140\n",
       "Name: tamanho_medio, dtype: float64"
      ]
     },
     "execution_count": 23,
     "metadata": {},
     "output_type": "execute_result"
    }
   ],
   "source": [
    "dataset_df['tamanho_medio'].head()"
   ]
  },
  {
   "cell_type": "code",
   "execution_count": 24,
   "id": "b1d52a29",
   "metadata": {},
   "outputs": [],
   "source": [
    "dataset_df['tamanho_vocab'] = dataset_df['texto_limpo'].apply(lambda x: len(set(str(x).split())))"
   ]
  },
  {
   "cell_type": "code",
   "execution_count": 25,
   "id": "4aa0f8f7",
   "metadata": {},
   "outputs": [
    {
     "data": {
      "text/plain": [
       "0    161\n",
       "1    219\n",
       "2    117\n",
       "3    203\n",
       "4    144\n",
       "Name: tamanho_vocab, dtype: int64"
      ]
     },
     "execution_count": 25,
     "metadata": {},
     "output_type": "execute_result"
    }
   ],
   "source": [
    "dataset_df['tamanho_vocab'].head()"
   ]
  },
  {
   "cell_type": "code",
   "execution_count": 26,
   "id": "b20cf3b4",
   "metadata": {},
   "outputs": [],
   "source": [
    "features_df = dataset_df[['tamanho_texto', 'tamanho_medio', 'tamanho_vocab']]"
   ]
  },
  {
   "cell_type": "code",
   "execution_count": 27,
   "id": "ce909929",
   "metadata": {},
   "outputs": [
    {
     "data": {
      "text/html": [
       "<div>\n",
       "<style scoped>\n",
       "    .dataframe tbody tr th:only-of-type {\n",
       "        vertical-align: middle;\n",
       "    }\n",
       "\n",
       "    .dataframe tbody tr th {\n",
       "        vertical-align: top;\n",
       "    }\n",
       "\n",
       "    .dataframe thead th {\n",
       "        text-align: right;\n",
       "    }\n",
       "</style>\n",
       "<table border=\"1\" class=\"dataframe\">\n",
       "  <thead>\n",
       "    <tr style=\"text-align: right;\">\n",
       "      <th></th>\n",
       "      <th>tamanho_texto</th>\n",
       "      <th>tamanho_medio</th>\n",
       "      <th>tamanho_vocab</th>\n",
       "    </tr>\n",
       "  </thead>\n",
       "  <tbody>\n",
       "    <tr>\n",
       "      <th>0</th>\n",
       "      <td>207</td>\n",
       "      <td>6.681159</td>\n",
       "      <td>161</td>\n",
       "    </tr>\n",
       "    <tr>\n",
       "      <th>1</th>\n",
       "      <td>389</td>\n",
       "      <td>6.092545</td>\n",
       "      <td>219</td>\n",
       "    </tr>\n",
       "    <tr>\n",
       "      <th>2</th>\n",
       "      <td>184</td>\n",
       "      <td>7.222826</td>\n",
       "      <td>117</td>\n",
       "    </tr>\n",
       "    <tr>\n",
       "      <th>3</th>\n",
       "      <td>281</td>\n",
       "      <td>7.370107</td>\n",
       "      <td>203</td>\n",
       "    </tr>\n",
       "    <tr>\n",
       "      <th>4</th>\n",
       "      <td>214</td>\n",
       "      <td>6.855140</td>\n",
       "      <td>144</td>\n",
       "    </tr>\n",
       "  </tbody>\n",
       "</table>\n",
       "</div>"
      ],
      "text/plain": [
       "   tamanho_texto  tamanho_medio  tamanho_vocab\n",
       "0            207       6.681159            161\n",
       "1            389       6.092545            219\n",
       "2            184       7.222826            117\n",
       "3            281       7.370107            203\n",
       "4            214       6.855140            144"
      ]
     },
     "execution_count": 27,
     "metadata": {},
     "output_type": "execute_result"
    }
   ],
   "source": [
    "features_df.head()"
   ]
  },
  {
   "cell_type": "code",
   "execution_count": null,
   "id": "03d3868a",
   "metadata": {},
   "outputs": [],
   "source": []
  }
 ],
 "metadata": {
  "kernelspec": {
   "display_name": "Python 3 (ipykernel)",
   "language": "python",
   "name": "python3"
  },
  "language_info": {
   "codemirror_mode": {
    "name": "ipython",
    "version": 3
   },
   "file_extension": ".py",
   "mimetype": "text/x-python",
   "name": "python",
   "nbconvert_exporter": "python",
   "pygments_lexer": "ipython3",
   "version": "3.9.7"
  }
 },
 "nbformat": 4,
 "nbformat_minor": 5
}
