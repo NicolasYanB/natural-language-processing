{
 "cells": [
  {
   "cell_type": "code",
   "execution_count": 1,
   "id": "712ffd96",
   "metadata": {},
   "outputs": [],
   "source": [
    "text = 0\n",
    "with open(\"../data/file.txt\") as f:\n",
    "    text = f.read()"
   ]
  },
  {
   "cell_type": "code",
   "execution_count": 2,
   "id": "d65e1862",
   "metadata": {},
   "outputs": [],
   "source": [
    "from nltk import word_tokenize"
   ]
  },
  {
   "cell_type": "code",
   "execution_count": 3,
   "id": "11157382",
   "metadata": {},
   "outputs": [
    {
     "data": {
      "text/plain": [
       "['The',\n",
       " 'reader',\n",
       " 'of',\n",
       " 'this',\n",
       " 'course',\n",
       " 'should',\n",
       " 'have',\n",
       " 'a',\n",
       " 'basic',\n",
       " 'knowledge',\n",
       " 'of',\n",
       " 'the',\n",
       " 'Python',\n",
       " 'programming',\n",
       " 'lenguage',\n",
       " '.',\n",
       " 'He/she',\n",
       " 'must',\n",
       " 'have',\n",
       " 'knowldge']"
      ]
     },
     "execution_count": 3,
     "metadata": {},
     "output_type": "execute_result"
    }
   ],
   "source": [
    "tokens = word_tokenize(text)\n",
    "tokens[:20]"
   ]
  },
  {
   "cell_type": "code",
   "execution_count": 5,
   "id": "80919146",
   "metadata": {},
   "outputs": [],
   "source": [
    "from autocorrect import Speller"
   ]
  },
  {
   "cell_type": "code",
   "execution_count": 6,
   "id": "7aad7076",
   "metadata": {},
   "outputs": [
    {
     "data": {
      "text/plain": [
       "['The',\n",
       " 'reader',\n",
       " 'of',\n",
       " 'this',\n",
       " 'course',\n",
       " 'should',\n",
       " 'have',\n",
       " 'a',\n",
       " 'basic',\n",
       " 'knowledge',\n",
       " 'of',\n",
       " 'the',\n",
       " 'Python',\n",
       " 'programming',\n",
       " 'language',\n",
       " '.',\n",
       " 'He/she',\n",
       " 'must',\n",
       " 'have',\n",
       " 'knowledge']"
      ]
     },
     "execution_count": 6,
     "metadata": {},
     "output_type": "execute_result"
    }
   ],
   "source": [
    "spell = Speller(lang=\"en\")\n",
    "spell_tokens = [spell(token) for token in tokens]\n",
    "spell_tokens[:20]"
   ]
  },
  {
   "cell_type": "code",
   "execution_count": 7,
   "id": "0110d4ee",
   "metadata": {},
   "outputs": [
    {
     "data": {
      "text/plain": [
       "['The',\n",
       " 'reader',\n",
       " 'of',\n",
       " 'this',\n",
       " 'course',\n",
       " 'should',\n",
       " 'have',\n",
       " 'a',\n",
       " 'basic',\n",
       " 'knowledge',\n",
       " 'of',\n",
       " 'the',\n",
       " 'Python',\n",
       " 'programming',\n",
       " 'language',\n",
       " '.',\n",
       " 'He/she',\n",
       " 'must',\n",
       " 'have',\n",
       " 'knowledge',\n",
       " 'of',\n",
       " 'data',\n",
       " 'types',\n",
       " 'in',\n",
       " 'Python.He',\n",
       " 'should',\n",
       " 'be',\n",
       " 'able',\n",
       " 'to',\n",
       " 'write',\n",
       " 'functions',\n",
       " ',',\n",
       " 'and',\n",
       " 'also',\n",
       " 'have',\n",
       " 'the',\n",
       " 'ability',\n",
       " 'to',\n",
       " 'import',\n",
       " 'and',\n",
       " 'use',\n",
       " 'libraries',\n",
       " 'and',\n",
       " 'packages',\n",
       " 'in',\n",
       " 'Python',\n",
       " '.',\n",
       " 'Familiarity',\n",
       " 'with',\n",
       " 'basic',\n",
       " 'linguistics',\n",
       " 'and',\n",
       " 'probability',\n",
       " 'is',\n",
       " 'assumed',\n",
       " 'although',\n",
       " 'not',\n",
       " 'required',\n",
       " 'to',\n",
       " 'fully',\n",
       " 'complete',\n",
       " 'this',\n",
       " 'course',\n",
       " '.']"
      ]
     },
     "execution_count": 7,
     "metadata": {},
     "output_type": "execute_result"
    }
   ],
   "source": [
    "spell_tokens"
   ]
  },
  {
   "cell_type": "code",
   "execution_count": 8,
   "id": "1959d0b4",
   "metadata": {},
   "outputs": [],
   "source": [
    "from nltk import pos_tag"
   ]
  },
  {
   "cell_type": "code",
   "execution_count": 9,
   "id": "4bc7ef02",
   "metadata": {},
   "outputs": [
    {
     "data": {
      "text/plain": [
       "[('The', 'DT'),\n",
       " ('reader', 'NN'),\n",
       " ('of', 'IN'),\n",
       " ('this', 'DT'),\n",
       " ('course', 'NN'),\n",
       " ('should', 'MD'),\n",
       " ('have', 'VB'),\n",
       " ('a', 'DT'),\n",
       " ('basic', 'JJ'),\n",
       " ('knowledge', 'NN'),\n",
       " ('of', 'IN'),\n",
       " ('the', 'DT'),\n",
       " ('Python', 'NNP'),\n",
       " ('programming', 'NN'),\n",
       " ('language', 'NN'),\n",
       " ('.', '.'),\n",
       " ('He/she', 'NNP'),\n",
       " ('must', 'MD'),\n",
       " ('have', 'VB'),\n",
       " ('knowledge', 'NN'),\n",
       " ('of', 'IN'),\n",
       " ('data', 'NNS'),\n",
       " ('types', 'NNS'),\n",
       " ('in', 'IN'),\n",
       " ('Python.He', 'NNP'),\n",
       " ('should', 'MD'),\n",
       " ('be', 'VB'),\n",
       " ('able', 'JJ'),\n",
       " ('to', 'TO'),\n",
       " ('write', 'VB'),\n",
       " ('functions', 'NNS'),\n",
       " (',', ','),\n",
       " ('and', 'CC'),\n",
       " ('also', 'RB'),\n",
       " ('have', 'VBP'),\n",
       " ('the', 'DT'),\n",
       " ('ability', 'NN'),\n",
       " ('to', 'TO'),\n",
       " ('import', 'NN'),\n",
       " ('and', 'CC'),\n",
       " ('use', 'NN'),\n",
       " ('libraries', 'NNS'),\n",
       " ('and', 'CC'),\n",
       " ('packages', 'NNS'),\n",
       " ('in', 'IN'),\n",
       " ('Python', 'NNP'),\n",
       " ('.', '.'),\n",
       " ('Familiarity', 'NN'),\n",
       " ('with', 'IN'),\n",
       " ('basic', 'JJ'),\n",
       " ('linguistics', 'NNS'),\n",
       " ('and', 'CC'),\n",
       " ('probability', 'NN'),\n",
       " ('is', 'VBZ'),\n",
       " ('assumed', 'VBN'),\n",
       " ('although', 'IN'),\n",
       " ('not', 'RB'),\n",
       " ('required', 'VBN'),\n",
       " ('to', 'TO'),\n",
       " ('fully', 'RB'),\n",
       " ('complete', 'VB'),\n",
       " ('this', 'DT'),\n",
       " ('course', 'NN'),\n",
       " ('.', '.')]"
      ]
     },
     "execution_count": 9,
     "metadata": {},
     "output_type": "execute_result"
    }
   ],
   "source": [
    "pos = pos_tag(spell_tokens)\n",
    "pos"
   ]
  },
  {
   "cell_type": "code",
   "execution_count": 10,
   "id": "c046313c",
   "metadata": {},
   "outputs": [
    {
     "name": "stderr",
     "output_type": "stream",
     "text": [
      "[nltk_data] Downloading package stopwords to\n",
      "[nltk_data]     /home/nicolas/nltk_data...\n",
      "[nltk_data]   Package stopwords is already up-to-date!\n"
     ]
    }
   ],
   "source": [
    "from nltk import download\n",
    "download('stopwords')\n",
    "from nltk.corpus import stopwords"
   ]
  },
  {
   "cell_type": "code",
   "execution_count": 12,
   "id": "1f8a5230",
   "metadata": {},
   "outputs": [
    {
     "data": {
      "text/plain": [
       "['The',\n",
       " 'reader',\n",
       " 'course',\n",
       " 'basic',\n",
       " 'knowledge',\n",
       " 'Python',\n",
       " 'programming',\n",
       " 'language',\n",
       " '.',\n",
       " 'He/she',\n",
       " 'must',\n",
       " 'knowledge',\n",
       " 'data',\n",
       " 'types',\n",
       " 'Python.He',\n",
       " 'able',\n",
       " 'write',\n",
       " 'functions',\n",
       " ',',\n",
       " 'also']"
      ]
     },
     "execution_count": 12,
     "metadata": {},
     "output_type": "execute_result"
    }
   ],
   "source": [
    "stop_words = stopwords.words(\"english\")\n",
    "words = [word for word in spell_tokens if word not in stop_words]\n",
    "words[:20]"
   ]
  },
  {
   "cell_type": "code",
   "execution_count": 13,
   "id": "7b23596e",
   "metadata": {},
   "outputs": [
    {
     "name": "stderr",
     "output_type": "stream",
     "text": [
      "[nltk_data] Downloading package wordnet to /home/nicolas/nltk_data...\n",
      "[nltk_data]   Package wordnet is already up-to-date!\n"
     ]
    }
   ],
   "source": [
    "from nltk import stem\n",
    "download('wordnet')\n",
    "from nltk.stem.wordnet import WordNetLemmatizer"
   ]
  },
  {
   "cell_type": "code",
   "execution_count": 15,
   "id": "e838b153",
   "metadata": {},
   "outputs": [],
   "source": [
    "lemmatizer = WordNetLemmatizer()\n",
    "stemmer = stem.SnowballStemmer(\"english\")"
   ]
  },
  {
   "cell_type": "code",
   "execution_count": 16,
   "id": "e341b840",
   "metadata": {},
   "outputs": [
    {
     "data": {
      "text/plain": [
       "['the',\n",
       " 'reader',\n",
       " 'cours',\n",
       " 'basic',\n",
       " 'knowledg',\n",
       " 'python',\n",
       " 'program',\n",
       " 'languag',\n",
       " '.',\n",
       " 'he/sh',\n",
       " 'must',\n",
       " 'knowledg',\n",
       " 'data',\n",
       " 'type',\n",
       " 'python.h',\n",
       " 'abl',\n",
       " 'write',\n",
       " 'function',\n",
       " ',',\n",
       " 'also']"
      ]
     },
     "execution_count": 16,
     "metadata": {},
     "output_type": "execute_result"
    }
   ],
   "source": [
    "lemmes = [lemmatizer.lemmatize(word) for word in words]\n",
    "stems = [stemmer.stem(word) for word in lemmes]\n",
    "stems[:20]"
   ]
  },
  {
   "cell_type": "code",
   "execution_count": 18,
   "id": "754839a2",
   "metadata": {},
   "outputs": [],
   "source": [
    "from nltk.tokenize import sent_tokenize"
   ]
  },
  {
   "cell_type": "code",
   "execution_count": 21,
   "id": "ab83d5a3",
   "metadata": {},
   "outputs": [
    {
     "data": {
      "text/plain": [
       "3"
      ]
     },
     "execution_count": 21,
     "metadata": {},
     "output_type": "execute_result"
    }
   ],
   "source": [
    "sentences = sent_tokenize(text.replace('\\n', ' '))\n",
    "len(sentences)"
   ]
  },
  {
   "cell_type": "code",
   "execution_count": 22,
   "id": "c5abca8f",
   "metadata": {},
   "outputs": [
    {
     "data": {
      "text/plain": [
       "['The reader of this course should have a basic knowledge of the Python programming lenguage.',\n",
       " 'He/she must have knowldge of data types in Python.He should be able to write functions,  and also have the ability to import and use libraries and packages in Python.',\n",
       " 'Familiarity  with basic linguistics and probability is assumed although not required to fully  complete this course.']"
      ]
     },
     "execution_count": 22,
     "metadata": {},
     "output_type": "execute_result"
    }
   ],
   "source": [
    "sentences"
   ]
  },
  {
   "cell_type": "code",
   "execution_count": null,
   "id": "84b1b489",
   "metadata": {},
   "outputs": [],
   "source": []
  }
 ],
 "metadata": {
  "kernelspec": {
   "display_name": "Python 3 (ipykernel)",
   "language": "python",
   "name": "python3"
  },
  "language_info": {
   "codemirror_mode": {
    "name": "ipython",
    "version": 3
   },
   "file_extension": ".py",
   "mimetype": "text/x-python",
   "name": "python",
   "nbconvert_exporter": "python",
   "pygments_lexer": "ipython3",
   "version": "3.9.7"
  }
 },
 "nbformat": 4,
 "nbformat_minor": 5
}
