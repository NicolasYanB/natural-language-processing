{
 "cells": [
  {
   "cell_type": "code",
   "execution_count": 1,
   "id": "4b5ff62c",
   "metadata": {},
   "outputs": [],
   "source": [
    "sentence = \"I visited the US from the UK on 22-10-18\""
   ]
  },
  {
   "cell_type": "code",
   "execution_count": 5,
   "id": "a28bfb7b",
   "metadata": {},
   "outputs": [],
   "source": [
    "def normalize(text):\n",
    "    return text.replace(\"US\", \"United States\") \\\n",
    "                .replace(\"UK\", \"United Kingdom\") \\\n",
    "                .replace(\"-18\", \"-2018\")"
   ]
  },
  {
   "cell_type": "code",
   "execution_count": 6,
   "id": "c91d89d3",
   "metadata": {},
   "outputs": [
    {
     "name": "stdout",
     "output_type": "stream",
     "text": [
      "I visited the United States from the United Kingdom on 22-10-2018\n"
     ]
    }
   ],
   "source": [
    "normalized_sentence = normalize(sentence)\n",
    "print(normalized_sentence)"
   ]
  },
  {
   "cell_type": "code",
   "execution_count": 7,
   "id": "f98c12fd",
   "metadata": {},
   "outputs": [
    {
     "name": "stdout",
     "output_type": "stream",
     "text": [
      "United States and United Kingdom are two superpowers\n"
     ]
    }
   ],
   "source": [
    "normalized_sentence = normalize(\"US and UK are two superpowers\")\n",
    "print(normalized_sentence)"
   ]
  },
  {
   "cell_type": "code",
   "execution_count": null,
   "id": "59696451",
   "metadata": {},
   "outputs": [],
   "source": []
  }
 ],
 "metadata": {
  "kernelspec": {
   "display_name": "Python 3 (ipykernel)",
   "language": "python",
   "name": "python3"
  },
  "language_info": {
   "codemirror_mode": {
    "name": "ipython",
    "version": 3
   },
   "file_extension": ".py",
   "mimetype": "text/x-python",
   "name": "python",
   "nbconvert_exporter": "python",
   "pygments_lexer": "ipython3",
   "version": "3.9.7"
  }
 },
 "nbformat": 4,
 "nbformat_minor": 5
}
