{
 "cells": [
  {
   "cell_type": "code",
   "execution_count": 1,
   "id": "7d740498",
   "metadata": {},
   "outputs": [],
   "source": [
    "from nltk import stem"
   ]
  },
  {
   "cell_type": "code",
   "execution_count": 2,
   "id": "d929ce21",
   "metadata": {},
   "outputs": [],
   "source": [
    "def get_stems(word, stemmer):\n",
    "    return stemmer.stem(word)\n",
    "porterStem = stem.PorterStemmer()"
   ]
  },
  {
   "cell_type": "code",
   "execution_count": 4,
   "id": "3b4e8c00",
   "metadata": {},
   "outputs": [
    {
     "data": {
      "text/plain": [
       "'product'"
      ]
     },
     "execution_count": 4,
     "metadata": {},
     "output_type": "execute_result"
    }
   ],
   "source": [
    "get_stems(\"production\", porterStem)"
   ]
  },
  {
   "cell_type": "code",
   "execution_count": 5,
   "id": "f0c8c1fd",
   "metadata": {},
   "outputs": [
    {
     "data": {
      "text/plain": [
       "'come'"
      ]
     },
     "execution_count": 5,
     "metadata": {},
     "output_type": "execute_result"
    }
   ],
   "source": [
    "get_stems(\"coming\", porterStem)"
   ]
  },
  {
   "cell_type": "code",
   "execution_count": 6,
   "id": "5be618d8",
   "metadata": {},
   "outputs": [
    {
     "data": {
      "text/plain": [
       "'fire'"
      ]
     },
     "execution_count": 6,
     "metadata": {},
     "output_type": "execute_result"
    }
   ],
   "source": [
    "get_stems(\"firing\", porterStem)"
   ]
  },
  {
   "cell_type": "code",
   "execution_count": 7,
   "id": "817f5cc5",
   "metadata": {},
   "outputs": [
    {
     "data": {
      "text/plain": [
       "'battl'"
      ]
     },
     "execution_count": 7,
     "metadata": {},
     "output_type": "execute_result"
    }
   ],
   "source": [
    "get_stems(\"battling\", porterStem)"
   ]
  },
  {
   "cell_type": "code",
   "execution_count": 8,
   "id": "49368592",
   "metadata": {},
   "outputs": [
    {
     "data": {
      "text/plain": [
       "'battl'"
      ]
     },
     "execution_count": 8,
     "metadata": {},
     "output_type": "execute_result"
    }
   ],
   "source": [
    "stemmer = stem.SnowballStemmer(\"english\")\n",
    "get_stems(\"battling\", stemmer)"
   ]
  },
  {
   "cell_type": "code",
   "execution_count": null,
   "id": "8d56c722",
   "metadata": {},
   "outputs": [],
   "source": []
  }
 ],
 "metadata": {
  "kernelspec": {
   "display_name": "Python 3 (ipykernel)",
   "language": "python",
   "name": "python3"
  },
  "language_info": {
   "codemirror_mode": {
    "name": "ipython",
    "version": 3
   },
   "file_extension": ".py",
   "mimetype": "text/x-python",
   "name": "python",
   "nbconvert_exporter": "python",
   "pygments_lexer": "ipython3",
   "version": "3.9.7"
  }
 },
 "nbformat": 4,
 "nbformat_minor": 5
}
