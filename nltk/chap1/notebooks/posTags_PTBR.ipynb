{
 "cells": [
  {
   "cell_type": "code",
   "execution_count": 1,
   "id": "a37f8bcc",
   "metadata": {},
   "outputs": [],
   "source": [
    "frase = \"Mas de quanta sujeira meu coração é capaz! Acima de tudo: é sujo, infame, nojento, nojento!\""
   ]
  },
  {
   "cell_type": "code",
   "execution_count": 2,
   "id": "e181f42c",
   "metadata": {},
   "outputs": [],
   "source": [
    "import joblib\n",
    "from nltk import word_tokenize"
   ]
  },
  {
   "cell_type": "code",
   "execution_count": 3,
   "id": "c4196d13",
   "metadata": {},
   "outputs": [],
   "source": [
    "path = \"../data/POS-tagger-portuguese-nltk/trained_POS_taggers/\"\n",
    "tagger = joblib.load(path+\"POS_tagger_brill.pkl\")"
   ]
  },
  {
   "cell_type": "code",
   "execution_count": 4,
   "id": "146031e1",
   "metadata": {},
   "outputs": [
    {
     "data": {
      "text/plain": [
       "<nltk.tag.brill.BrillTagger at 0x7fb2f40b33a0>"
      ]
     },
     "execution_count": 4,
     "metadata": {},
     "output_type": "execute_result"
    }
   ],
   "source": [
    "tagger"
   ]
  },
  {
   "cell_type": "code",
   "execution_count": 6,
   "id": "69770489",
   "metadata": {},
   "outputs": [
    {
     "data": {
      "text/plain": [
       "['Mas',\n",
       " 'de',\n",
       " 'quanta',\n",
       " 'sujeira',\n",
       " 'meu',\n",
       " 'coração',\n",
       " 'é',\n",
       " 'capaz',\n",
       " '!',\n",
       " 'Acima',\n",
       " 'de',\n",
       " 'tudo',\n",
       " ':',\n",
       " 'é',\n",
       " 'sujo',\n",
       " ',',\n",
       " 'infame',\n",
       " ',',\n",
       " 'nojento',\n",
       " ',',\n",
       " 'nojento',\n",
       " '!']"
      ]
     },
     "execution_count": 6,
     "metadata": {},
     "output_type": "execute_result"
    }
   ],
   "source": [
    "tokens = word_tokenize(frase)\n",
    "tokens"
   ]
  },
  {
   "cell_type": "code",
   "execution_count": 7,
   "id": "b72f3512",
   "metadata": {},
   "outputs": [
    {
     "data": {
      "text/plain": [
       "[('Mas', 'KC'),\n",
       " ('de', 'PREP'),\n",
       " ('quanta', 'V'),\n",
       " ('sujeira', 'N'),\n",
       " ('meu', 'PROADJ'),\n",
       " ('coração', 'N'),\n",
       " ('é', 'V'),\n",
       " ('capaz', 'ADJ'),\n",
       " ('!', '!'),\n",
       " ('Acima', 'PREP|+'),\n",
       " ('de', 'PREP|+'),\n",
       " ('tudo', 'PROSUB'),\n",
       " (':', ':'),\n",
       " ('é', 'V'),\n",
       " ('sujo', 'ADJ'),\n",
       " (',', ','),\n",
       " ('infame', 'ADJ'),\n",
       " (',', ','),\n",
       " ('nojento', 'N'),\n",
       " (',', ','),\n",
       " ('nojento', 'N'),\n",
       " ('!', '!')]"
      ]
     },
     "execution_count": 7,
     "metadata": {},
     "output_type": "execute_result"
    }
   ],
   "source": [
    "tagger.tag(tokens)"
   ]
  },
  {
   "cell_type": "code",
   "execution_count": null,
   "id": "c6c71d7f",
   "metadata": {},
   "outputs": [],
   "source": []
  }
 ],
 "metadata": {
  "kernelspec": {
   "display_name": "Python 3 (ipykernel)",
   "language": "python",
   "name": "python3"
  },
  "language_info": {
   "codemirror_mode": {
    "name": "ipython",
    "version": 3
   },
   "file_extension": ".py",
   "mimetype": "text/x-python",
   "name": "python",
   "nbconvert_exporter": "python",
   "pygments_lexer": "ipython3",
   "version": "3.9.7"
  }
 },
 "nbformat": 4,
 "nbformat_minor": 5
}
