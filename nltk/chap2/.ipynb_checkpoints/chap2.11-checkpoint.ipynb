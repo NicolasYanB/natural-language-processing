{
 "cells": [
  {
   "cell_type": "code",
   "execution_count": 2,
   "id": "cbfa473c",
   "metadata": {},
   "outputs": [
    {
     "data": {
      "text/html": [
       "<div>\n",
       "<style scoped>\n",
       "    .dataframe tbody tr th:only-of-type {\n",
       "        vertical-align: middle;\n",
       "    }\n",
       "\n",
       "    .dataframe tbody tr th {\n",
       "        vertical-align: top;\n",
       "    }\n",
       "\n",
       "    .dataframe thead th {\n",
       "        text-align: right;\n",
       "    }\n",
       "</style>\n",
       "<table border=\"1\" class=\"dataframe\">\n",
       "  <thead>\n",
       "    <tr style=\"text-align: right;\">\n",
       "      <th></th>\n",
       "      <th>text</th>\n",
       "    </tr>\n",
       "  </thead>\n",
       "  <tbody>\n",
       "    <tr>\n",
       "      <th>0</th>\n",
       "      <td>The interim budget for 2019 will be announced ...</td>\n",
       "    </tr>\n",
       "    <tr>\n",
       "      <th>1</th>\n",
       "      <td>Do you know how much expectation the middle-cl...</td>\n",
       "    </tr>\n",
       "    <tr>\n",
       "      <th>2</th>\n",
       "      <td>February is the shortest month in a year.</td>\n",
       "    </tr>\n",
       "    <tr>\n",
       "      <th>3</th>\n",
       "      <td>This financial year will end on 31st March.</td>\n",
       "    </tr>\n",
       "  </tbody>\n",
       "</table>\n",
       "</div>"
      ],
      "text/plain": [
       "                                                text\n",
       "0  The interim budget for 2019 will be announced ...\n",
       "1  Do you know how much expectation the middle-cl...\n",
       "2          February is the shortest month in a year.\n",
       "3        This financial year will end on 31st March."
      ]
     },
     "execution_count": 2,
     "metadata": {},
     "output_type": "execute_result"
    }
   ],
   "source": [
    "import pandas as pd\n",
    "from textblob import TextBlob\n",
    "\n",
    "df = pd.DataFrame([['The interim budget for 2019 will '\\\n",
    "                   'be announced on 1st February.'], \\\n",
    "                  ['Do you know how much expectation '\\\n",
    "                  'the middle-class working population '\\\n",
    "                  'is having from this budget?'], \\\n",
    "                  ['February is the shortest month '\\\n",
    "                   'in a year.'], \\\n",
    "                  ['This financial year will end on '\\\n",
    "                  '31st March.']])\n",
    "df.columns = ['text']\n",
    "df.head()"
   ]
  },
  {
   "cell_type": "code",
   "execution_count": 3,
   "id": "0db77ab1",
   "metadata": {},
   "outputs": [
    {
     "data": {
      "text/plain": [
       "0    11\n",
       "1    15\n",
       "2     8\n",
       "3     8\n",
       "Name: number_of_words, dtype: int64"
      ]
     },
     "execution_count": 3,
     "metadata": {},
     "output_type": "execute_result"
    }
   ],
   "source": [
    "def add_num_words(df):\n",
    "    df['number_of_words'] = df['text'].apply(lambda x: len(TextBlob(str(x)).words))\n",
    "    return df\n",
    "\n",
    "add_num_words(df)['number_of_words']"
   ]
  },
  {
   "cell_type": "code",
   "execution_count": null,
   "id": "ddd46a6c",
   "metadata": {},
   "outputs": [],
   "source": [
    "def is_present(wh_words, df):\n",
    "    \"\"\"\n",
    "    The bellow line of code will find the intersection\n",
    "    between set of tokens of every sentence and the\n",
    "    wh_words and will return true if the length of\n",
    "    intersection is non-zero\n",
    "    \"\"\"\n",
    "    df['is_wh_words_present'] = df['text'].apply(lambda x: True if len(set(TextBlob(str(x)).words).\\\n",
    "                                                                       intersection(wh_words)) > 0 else False)"
   ]
  }
 ],
 "metadata": {
  "kernelspec": {
   "display_name": "Python 3 (ipykernel)",
   "language": "python",
   "name": "python3"
  },
  "language_info": {
   "codemirror_mode": {
    "name": "ipython",
    "version": 3
   },
   "file_extension": ".py",
   "mimetype": "text/x-python",
   "name": "python",
   "nbconvert_exporter": "python",
   "pygments_lexer": "ipython3",
   "version": "3.9.7"
  }
 },
 "nbformat": 4,
 "nbformat_minor": 5
}
