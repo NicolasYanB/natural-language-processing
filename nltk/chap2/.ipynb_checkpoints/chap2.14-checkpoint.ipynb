{
 "cells": [
  {
   "cell_type": "code",
   "execution_count": 1,
   "id": "5e589531",
   "metadata": {},
   "outputs": [
    {
     "name": "stderr",
     "output_type": "stream",
     "text": [
      "[nltk_data] Downloading package stopwords to\n",
      "[nltk_data]     /home/nicolas/nltk_data...\n",
      "[nltk_data]   Package stopwords is already up-to-date!\n"
     ]
    }
   ],
   "source": [
    "from pylab import *\n",
    "import nltk\n",
    "\n",
    "nltk.download('stopwords')\n",
    "from sklearn.datasets import fetch_20newsgroups\n",
    "from nltk import word_tokenize\n",
    "from nltk.corpus import stopwords\n",
    "import matplotlib.pyplot as plt\n",
    "import re\n",
    "import string\n",
    "from collections import Counter"
   ]
  },
  {
   "cell_type": "code",
   "execution_count": 2,
   "id": "4dbbf4e5",
   "metadata": {},
   "outputs": [],
   "source": [
    "def get_stop_words():\n",
    "    stop_words = stopwords.words('english')\n",
    "    stop_words = stop_words + list(string.printable)\n",
    "    return stop_words"
   ]
  },
  {
   "cell_type": "code",
   "execution_count": 6,
   "id": "21b9c2a2",
   "metadata": {},
   "outputs": [],
   "source": [
    "def get_and_prepare_data(stop_words):\n",
    "    \"\"\"\n",
    "    This method will load 20newsgroups data and\n",
    "    remove stop words from it using given stop words list.\n",
    "    :param stop_words:\n",
    "    :return:\n",
    "    \"\"\"\n",
    "    newsgroups_data_sample = fetch_20newsgroups(subset='train')\n",
    "    tokenized_corpus = [word.lower() for sentence in newsgroups_data_sample['data'] for word in word_tokenize\\\n",
    "                        (re.sub(r'([^\\s\\w|_])+', ' ', sentence)) if word.lower() not in stop_words]\n",
    "    return tokenized_corpus"
   ]
  },
  {
   "cell_type": "code",
   "execution_count": 7,
   "id": "a36cc276",
   "metadata": {},
   "outputs": [],
   "source": [
    "def get_frequency(corpus, n):\n",
    "    token_count_di = Counter(corpus)\n",
    "    return token_count_di.most_common(n)"
   ]
  },
  {
   "cell_type": "code",
   "execution_count": null,
   "id": "82f9ec48",
   "metadata": {},
   "outputs": [],
   "source": [
    "stop_word_list = get_stop_words()\n",
    "corpus = get_and_prepare_data(stop_word_list)\n",
    "get_frequency(corpus, 50)"
   ]
  },
  {
   "cell_type": "code",
   "execution_count": 6,
   "id": "601a6784",
   "metadata": {},
   "outputs": [],
   "source": [
    "def get_actual_and_expected_frequencies(corpus):\n",
    "    freq_dict = get_frequency(corpus, 1000)\n",
    "    actual_frequencies = []\n",
    "    expected_frequencies = []\n",
    "    for rank, tup in enumerate(freq_dict):\n",
    "        actual_frequencies.append(log(tup[1]))\n",
    "        rank = 1 if rank == 0 else rank\n",
    "        # expected frequency 1/rank as per zipf's law\n",
    "        expected_frequencies.append(1/rank)\n",
    "    return actual_frequencies, expected_frequencies"
   ]
  },
  {
   "cell_type": "code",
   "execution_count": 7,
   "id": "99d92161",
   "metadata": {},
   "outputs": [],
   "source": [
    "def plot(actual_frequencies, expected_frequencies):\n",
    "    plt.plot(actual_frequencies, 'g*', expected_frequencies, 'ro')\n",
    "    plt.show()"
   ]
  },
  {
   "cell_type": "code",
   "execution_count": 8,
   "id": "4f648b36",
   "metadata": {},
   "outputs": [
    {
     "data": {
      "image/png": "[encoded data removed]",
      "text/plain": [
       "<Figure size 432x288 with 1 Axes>"
      ]
     },
     "metadata": {
      "needs_background": "light"
     },
     "output_type": "display_data"
    }
   ],
   "source": [
    "# We will plot the actual and expected frequencies\n",
    "actual_frequencies, expected_frequencies = get_actual_and_expected_frequencies(corpus)\n",
    "plot(actual_frequencies, expected_frequencies)"
   ]
  },
  {
   "cell_type": "code",
   "execution_count": null,
   "id": "67785f0d",
   "metadata": {},
   "outputs": [],
   "source": []
  }
 ],
 "metadata": {
  "kernelspec": {
   "display_name": "Python 3 (ipykernel)",
   "language": "python",
   "name": "python3"
  },
  "language_info": {
   "codemirror_mode": {
    "name": "ipython",
    "version": 3
   },
   "file_extension": ".py",
   "mimetype": "text/x-python",
   "name": "python",
   "nbconvert_exporter": "python",
   "pygments_lexer": "ipython3",
   "version": "3.9.7"
  }
 },
 "nbformat": 4,
 "nbformat_minor": 5
}
