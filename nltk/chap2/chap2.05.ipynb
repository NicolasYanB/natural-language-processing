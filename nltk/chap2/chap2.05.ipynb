{
 "cells": [
  {
   "cell_type": "code",
   "execution_count": 1,
   "id": "7afec66b",
   "metadata": {},
   "outputs": [],
   "source": [
    "from nltk.stem import RegexpStemmer"
   ]
  },
  {
   "cell_type": "code",
   "execution_count": 2,
   "id": "9bf37698",
   "metadata": {},
   "outputs": [
    {
     "data": {
      "text/plain": [
       "'I love play football'"
      ]
     },
     "execution_count": 2,
     "metadata": {},
     "output_type": "execute_result"
    }
   ],
   "source": [
    "def get_stems(text):\n",
    "    \"\"\"\n",
    "    Creating an object of RegexpStemmer, any string ending\n",
    "    with the given regex 'ing$' will be removed.\n",
    "    \"\"\"\n",
    "    \n",
    "    regex_stemmer = RegexpStemmer('ing$', min=4)\n",
    "    \n",
    "    \"\"\"\n",
    "    The bellow code line will convert every word into its\n",
    "    stem using regex stemmer and then join them with space.\n",
    "    \"\"\"\n",
    "    return ' '.join([regex_stemmer.stem(wd) for wd in text.split()])\n",
    "\n",
    "sentence = \"I love playing football\"\n",
    "get_stems(sentence)"
   ]
  },
  {
   "cell_type": "code",
   "execution_count": null,
   "id": "7e76624b",
   "metadata": {},
   "outputs": [],
   "source": []
  }
 ],
 "metadata": {
  "kernelspec": {
   "display_name": "Python 3 (ipykernel)",
   "language": "python",
   "name": "python3"
  },
  "language_info": {
   "codemirror_mode": {
    "name": "ipython",
    "version": 3
   },
   "file_extension": ".py",
   "mimetype": "text/x-python",
   "name": "python",
   "nbconvert_exporter": "python",
   "pygments_lexer": "ipython3",
   "version": "3.9.7"
  }
 },
 "nbformat": 4,
 "nbformat_minor": 5
}
