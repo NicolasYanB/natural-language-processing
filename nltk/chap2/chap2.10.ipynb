{
 "cells": [
  {
   "cell_type": "code",
   "execution_count": 1,
   "id": "61969cc8",
   "metadata": {},
   "outputs": [],
   "source": [
    "from nltk import word_tokenize\n",
    "sentence = \"She sells seashells on the seastore\""
   ]
  },
  {
   "cell_type": "code",
   "execution_count": 2,
   "id": "da5dda24",
   "metadata": {},
   "outputs": [
    {
     "data": {
      "text/plain": [
       "'sells seashells seastore'"
      ]
     },
     "execution_count": 2,
     "metadata": {},
     "output_type": "execute_result"
    }
   ],
   "source": [
    "def remove_stop_words(text, stop_words_list):\n",
    "    return ' '.join([word for word in word_tokenize(text) if word.lower() not in stop_words_list])\n",
    "\n",
    "custom_stop_words_list = ['she', 'on', 'the', 'am', 'is', 'not']\n",
    "remove_stop_words(sentence, custom_stop_words_list)"
   ]
  },
  {
   "cell_type": "code",
   "execution_count": null,
   "id": "64210e7e",
   "metadata": {},
   "outputs": [],
   "source": []
  }
 ],
 "metadata": {
  "kernelspec": {
   "display_name": "Python 3 (ipykernel)",
   "language": "python",
   "name": "python3"
  },
  "language_info": {
   "codemirror_mode": {
    "name": "ipython",
    "version": 3
   },
   "file_extension": ".py",
   "mimetype": "text/x-python",
   "name": "python",
   "nbconvert_exporter": "python",
   "pygments_lexer": "ipython3",
   "version": "3.9.7"
  }
 },
 "nbformat": 4,
 "nbformat_minor": 5
}
