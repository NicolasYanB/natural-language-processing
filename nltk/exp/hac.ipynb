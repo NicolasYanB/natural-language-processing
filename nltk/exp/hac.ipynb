{
 "cells": [
  {
   "cell_type": "code",
   "execution_count": 1,
   "metadata": {},
   "outputs": [],
   "source": [
    "# USE NUMPY AO INVÉS DE MATH\n",
    "import math\n",
    "import numpy as np"
   ]
  },
  {
   "cell_type": "code",
   "execution_count": 2,
   "metadata": {},
   "outputs": [],
   "source": [
    "def euclidean_distance(p1, p2):\n",
    "    return math.sqrt(sum([(p1[i] - p2[i]) ** 2 for i in range(len(p1))]))"
   ]
  },
  {
   "cell_type": "code",
   "execution_count": 3,
   "metadata": {},
   "outputs": [],
   "source": [
    "def get_distances(points):\n",
    "    distances = []\n",
    "    for i in range(len(points) - 1):\n",
    "        for j in range(i + 1, len(points)):\n",
    "            distances.append(euclidean_distance(points[i], points[j]))\n",
    "    return np.array(distances)"
   ]
  },
  {
   "cell_type": "code",
   "execution_count": 4,
   "metadata": {},
   "outputs": [
    {
     "data": {
      "text/plain": [
       "array([ 4.        , 11.70469991, 20.        , 21.54065923,  8.06225775,\n",
       "       16.        , 17.88854382,  9.8488578 ,  9.8488578 ,  8.        ])"
      ]
     },
     "execution_count": 4,
     "metadata": {},
     "output_type": "execute_result"
    }
   ],
   "source": [
    "points = [(4, 4), (8, 4), (15, 8), (24, 4), (24, 12)]\n",
    "matrix = get_distances(points)\n",
    "matrix"
   ]
  },
  {
   "cell_type": "code",
   "execution_count": 19,
   "metadata": {},
   "outputs": [],
   "source": [
    "def get_cluster(distances):\n",
    "    len_points = (1 + math.sqrt(1 + (8 * len(distances)))) / 2\n",
    "    nearest = distances.min()\n",
    "    index_nearest = np.where(distances == nearest)[0][0]\n",
    "\n",
    "    i = 0\n",
    "    j = 1\n",
    "    index = 0\n",
    "    while True:\n",
    "        if index == index_nearest:\n",
    "            break\n",
    "        if j == len_points - 1:\n",
    "            i += 1\n",
    "            j = i + 1\n",
    "            continue\n",
    "        j += 1\n",
    "    return i, j, nearest"
   ]
  },
  {
   "cell_type": "code",
   "execution_count": 20,
   "metadata": {},
   "outputs": [
    {
     "data": {
      "text/plain": [
       "(0, 1, 4.0)"
      ]
     },
     "execution_count": 20,
     "metadata": {},
     "output_type": "execute_result"
    }
   ],
   "source": [
    "get_cluster(matrix)"
   ]
  },
  {
   "cell_type": "code",
   "execution_count": 17,
   "metadata": {},
   "outputs": [],
   "source": [
    "def single_link(points):\n",
    "    length = len(points)\n",
    "    index = list(range(length))\n",
    "    clusters = []\n",
    "    while len(index) > 1:\n",
    "        pass\n",
    "    return index"
   ]
  },
  {
   "cell_type": "code",
   "execution_count": 21,
   "metadata": {},
   "outputs": [
    {
     "data": {
      "text/plain": [
       "[2, 3, 4, 5]"
      ]
     },
     "execution_count": 21,
     "metadata": {},
     "output_type": "execute_result"
    }
   ],
   "source": [
    "single_link(points)"
   ]
  }
 ],
 "metadata": {
  "interpreter": {
   "hash": "788ff9e221da96786f0787fa034c6a6d4ee2301f6a202844060c0567f22b56e1"
  },
  "kernelspec": {
   "display_name": "Python 3.9.7 ('nlp')",
   "language": "python",
   "name": "python3"
  },
  "language_info": {
   "codemirror_mode": {
    "name": "ipython",
    "version": 3
   },
   "file_extension": ".py",
   "mimetype": "text/x-python",
   "name": "python",
   "nbconvert_exporter": "python",
   "pygments_lexer": "ipython3",
   "version": "3.9.7"
  },
  "orig_nbformat": 4
 },
 "nbformat": 4,
 "nbformat_minor": 2
}
