{
 "cells": [
  {
   "cell_type": "code",
   "execution_count": 6,
   "id": "34ad7cca",
   "metadata": {},
   "outputs": [
    {
     "name": "stdout",
     "output_type": "stream",
     "text": [
      "['lemme', 'that']\n"
     ]
    }
   ],
   "source": [
    "import spacy\n",
    "from spacy.symbols import ORTH\n",
    "nlp = spacy.load(\"en_core_web_md\")\n",
    "doc = nlp(\"lemme that\")\n",
    "print([w.text for w in doc])"
   ]
  },
  {
   "cell_type": "code",
   "execution_count": 7,
   "id": "df29270f",
   "metadata": {},
   "outputs": [
    {
     "name": "stdout",
     "output_type": "stream",
     "text": [
      "['lemme', 'that']\n"
     ]
    }
   ],
   "source": [
    "special_case = [{ORTH: \"lem\"}, {ORTH: \"me\"}]\n",
    "nlp.tokenizer.add_special_case(\"lemme\", special_case)\n",
    "print([w.text for w in nlp(\"lemme that\")])"
   ]
  },
  {
   "cell_type": "code",
   "execution_count": 8,
   "id": "6cdfb12a",
   "metadata": {},
   "outputs": [
    {
     "name": "stdout",
     "output_type": "stream",
     "text": [
      "['lemme', '!']\n"
     ]
    }
   ],
   "source": [
    "print([w.text for w in nlp(\"lemme!\")])"
   ]
  },
  {
   "cell_type": "code",
   "execution_count": 9,
   "id": "c3c64f4e",
   "metadata": {},
   "outputs": [
    {
     "name": "stdout",
     "output_type": "stream",
     "text": [
      "['...lemme...?']\n"
     ]
    }
   ],
   "source": [
    "nlp.tokenizer.add_special_case(\"...lemme...?\", [{ORTH: \"...lemme...?\"}])\n",
    "print([w.text for w in nlp(\"...lemme...?\")])"
   ]
  },
  {
   "cell_type": "code",
   "execution_count": null,
   "id": "b27666bb",
   "metadata": {},
   "outputs": [],
   "source": []
  }
 ],
 "metadata": {
  "kernelspec": {
   "display_name": "Python 3 (ipykernel)",
   "language": "python",
   "name": "python3"
  },
  "language_info": {
   "codemirror_mode": {
    "name": "ipython",
    "version": 3
   },
   "file_extension": ".py",
   "mimetype": "text/x-python",
   "name": "python",
   "nbconvert_exporter": "python",
   "pygments_lexer": "ipython3",
   "version": "3.9.7"
  }
 },
 "nbformat": 4,
 "nbformat_minor": 5
}
