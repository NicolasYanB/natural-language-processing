{
 "cells": [
  {
   "cell_type": "code",
   "execution_count": 16,
   "id": "e631f828",
   "metadata": {},
   "outputs": [
    {
     "name": "stdout",
     "output_type": "stream",
     "text": [
      "I I\n",
      "am be\n",
      "flying fly\n",
      "to to\n",
      "Angeltown Los Angeles\n"
     ]
    }
   ],
   "source": [
    "import spacy\n",
    "nlp = spacy.load('en_core_web_md')\n",
    "special_case = [{ORTH: 'Angeltown', LEMMA: 'Los Angeles'}]\n",
    "nlp.get_pipe('attribute_ruler').add([[{'TEXT': 'Angeltown'}]], {'LEMMA': 'Los Angeles'})\n",
    "doc = nlp(u'I am flying to Angeltown')\n",
    "for token in doc:\n",
    "    print(token.text, token.lemma_)"
   ]
  },
  {
   "cell_type": "code",
   "execution_count": null,
   "id": "61e5f407",
   "metadata": {},
   "outputs": [],
   "source": []
  }
 ],
 "metadata": {
  "kernelspec": {
   "display_name": "Python 3 (ipykernel)",
   "language": "python",
   "name": "python3"
  },
  "language_info": {
   "codemirror_mode": {
    "name": "ipython",
    "version": 3
   },
   "file_extension": ".py",
   "mimetype": "text/x-python",
   "name": "python",
   "nbconvert_exporter": "python",
   "pygments_lexer": "ipython3",
   "version": "3.9.7"
  }
 },
 "nbformat": 4,
 "nbformat_minor": 5
}
