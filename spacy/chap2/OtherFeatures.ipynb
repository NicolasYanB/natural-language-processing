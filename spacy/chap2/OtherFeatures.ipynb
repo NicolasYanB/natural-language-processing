{
 "cells": [
  {
   "cell_type": "code",
   "execution_count": 2,
   "id": "8c72b590",
   "metadata": {},
   "outputs": [
    {
     "data": {
      "text/plain": [
       "'hello'"
      ]
     },
     "execution_count": 2,
     "metadata": {},
     "output_type": "execute_result"
    }
   ],
   "source": [
    "import spacy\n",
    "nlp = spacy.load('en_core_web_md')\n",
    "doc = nlp('Hello, hi!')\n",
    "doc[0].lower_"
   ]
  },
  {
   "cell_type": "code",
   "execution_count": 3,
   "id": "6d8b66c9",
   "metadata": {},
   "outputs": [
    {
     "data": {
      "text/plain": [
       "True"
      ]
     },
     "execution_count": 3,
     "metadata": {},
     "output_type": "execute_result"
    }
   ],
   "source": [
    "doc2 = nlp('HELLO, Hello, hello, hELLO')\n",
    "doc2[0].is_upper"
   ]
  },
  {
   "cell_type": "code",
   "execution_count": 4,
   "id": "c823902e",
   "metadata": {},
   "outputs": [
    {
     "data": {
      "text/plain": [
       "False"
      ]
     },
     "execution_count": 4,
     "metadata": {},
     "output_type": "execute_result"
    }
   ],
   "source": [
    "doc2[0].is_lower"
   ]
  },
  {
   "cell_type": "code",
   "execution_count": 5,
   "id": "5473297d",
   "metadata": {},
   "outputs": [
    {
     "data": {
      "text/plain": [
       "False"
      ]
     },
     "execution_count": 5,
     "metadata": {},
     "output_type": "execute_result"
    }
   ],
   "source": [
    "doc2[1].is_upper"
   ]
  },
  {
   "cell_type": "code",
   "execution_count": 6,
   "id": "4acbfc3f",
   "metadata": {},
   "outputs": [
    {
     "data": {
      "text/plain": [
       "False"
      ]
     },
     "execution_count": 6,
     "metadata": {},
     "output_type": "execute_result"
    }
   ],
   "source": [
    "doc2[1].is_lower"
   ]
  },
  {
   "cell_type": "code",
   "execution_count": 7,
   "id": "574a0069",
   "metadata": {},
   "outputs": [
    {
     "data": {
      "text/plain": [
       "True"
      ]
     },
     "execution_count": 7,
     "metadata": {},
     "output_type": "execute_result"
    }
   ],
   "source": [
    "doc3 = nlp('Cat and Cat123')\n",
    "doc3[0].is_alpha"
   ]
  },
  {
   "cell_type": "code",
   "execution_count": 8,
   "id": "0499325e",
   "metadata": {},
   "outputs": [
    {
     "data": {
      "text/plain": [
       "False"
      ]
     },
     "execution_count": 8,
     "metadata": {},
     "output_type": "execute_result"
    }
   ],
   "source": [
    "doc3[2].is_alpha"
   ]
  },
  {
   "cell_type": "code",
   "execution_count": 9,
   "id": "09a5c9de",
   "metadata": {},
   "outputs": [
    {
     "data": {
      "text/plain": [
       "True"
      ]
     },
     "execution_count": 9,
     "metadata": {},
     "output_type": "execute_result"
    }
   ],
   "source": [
    "doc4 = nlp('Hamburg and Göttingen')\n",
    "doc4[0].is_ascii"
   ]
  },
  {
   "cell_type": "code",
   "execution_count": 10,
   "id": "fde68928",
   "metadata": {},
   "outputs": [
    {
     "data": {
      "text/plain": [
       "False"
      ]
     },
     "execution_count": 10,
     "metadata": {},
     "output_type": "execute_result"
    }
   ],
   "source": [
    "doc4[2].is_ascii"
   ]
  },
  {
   "cell_type": "code",
   "execution_count": 11,
   "id": "5c966fb8",
   "metadata": {},
   "outputs": [
    {
     "data": {
      "text/plain": [
       "False"
      ]
     },
     "execution_count": 11,
     "metadata": {},
     "output_type": "execute_result"
    }
   ],
   "source": [
    "doc5 = nlp('Cat Cat123 123')\n",
    "doc5[0].is_digit"
   ]
  },
  {
   "cell_type": "code",
   "execution_count": 12,
   "id": "1b2693cf",
   "metadata": {},
   "outputs": [
    {
     "data": {
      "text/plain": [
       "False"
      ]
     },
     "execution_count": 12,
     "metadata": {},
     "output_type": "execute_result"
    }
   ],
   "source": [
    "doc5[1].is_digit"
   ]
  },
  {
   "cell_type": "code",
   "execution_count": 14,
   "id": "ed0718fa",
   "metadata": {},
   "outputs": [
    {
     "data": {
      "text/plain": [
       "True"
      ]
     },
     "execution_count": 14,
     "metadata": {},
     "output_type": "execute_result"
    }
   ],
   "source": [
    "doc5[2].is_digit"
   ]
  },
  {
   "cell_type": "code",
   "execution_count": 15,
   "id": "1ba574a5",
   "metadata": {},
   "outputs": [
    {
     "data": {
      "text/plain": [
       ","
      ]
     },
     "execution_count": 15,
     "metadata": {},
     "output_type": "execute_result"
    }
   ],
   "source": [
    "doc = nlp(\"You, him and Sally\")\n",
    "doc[1]"
   ]
  },
  {
   "cell_type": "code",
   "execution_count": 16,
   "id": "8145024c",
   "metadata": {},
   "outputs": [
    {
     "data": {
      "text/plain": [
       "True"
      ]
     },
     "execution_count": 16,
     "metadata": {},
     "output_type": "execute_result"
    }
   ],
   "source": [
    "doc[1].is_punct"
   ]
  },
  {
   "cell_type": "code",
   "execution_count": 17,
   "id": "4ec23acb",
   "metadata": {},
   "outputs": [
    {
     "data": {
      "text/plain": [
       "("
      ]
     },
     "execution_count": 17,
     "metadata": {},
     "output_type": "execute_result"
    }
   ],
   "source": [
    "doc = nlp('( [ He said yes. ] )')\n",
    "doc[0]"
   ]
  },
  {
   "cell_type": "code",
   "execution_count": 18,
   "id": "ebda48cc",
   "metadata": {},
   "outputs": [
    {
     "data": {
      "text/plain": [
       "True"
      ]
     },
     "execution_count": 18,
     "metadata": {},
     "output_type": "execute_result"
    }
   ],
   "source": [
    "doc[0].is_left_punct"
   ]
  },
  {
   "cell_type": "code",
   "execution_count": 19,
   "id": "544630b9",
   "metadata": {},
   "outputs": [
    {
     "data": {
      "text/plain": [
       "["
      ]
     },
     "execution_count": 19,
     "metadata": {},
     "output_type": "execute_result"
    }
   ],
   "source": [
    "doc[1]"
   ]
  },
  {
   "cell_type": "code",
   "execution_count": 20,
   "id": "bfeed3cd",
   "metadata": {},
   "outputs": [
    {
     "data": {
      "text/plain": [
       "True"
      ]
     },
     "execution_count": 20,
     "metadata": {},
     "output_type": "execute_result"
    }
   ],
   "source": [
    "doc[1].is_left_punct"
   ]
  },
  {
   "cell_type": "code",
   "execution_count": 21,
   "id": "e16a903b",
   "metadata": {},
   "outputs": [
    {
     "data": {
      "text/plain": [
       ")"
      ]
     },
     "execution_count": 21,
     "metadata": {},
     "output_type": "execute_result"
    }
   ],
   "source": [
    "doc[-1]"
   ]
  },
  {
   "cell_type": "code",
   "execution_count": 22,
   "id": "0c4c2c5e",
   "metadata": {},
   "outputs": [
    {
     "data": {
      "text/plain": [
       "True"
      ]
     },
     "execution_count": 22,
     "metadata": {},
     "output_type": "execute_result"
    }
   ],
   "source": [
    "doc[-1].is_right_punct"
   ]
  },
  {
   "cell_type": "code",
   "execution_count": 23,
   "id": "c0c253e4",
   "metadata": {},
   "outputs": [
    {
     "data": {
      "text/plain": [
       "]"
      ]
     },
     "execution_count": 23,
     "metadata": {},
     "output_type": "execute_result"
    }
   ],
   "source": [
    "doc[-2]"
   ]
  },
  {
   "cell_type": "code",
   "execution_count": 24,
   "id": "71fd32a6",
   "metadata": {},
   "outputs": [
    {
     "data": {
      "text/plain": [
       "True"
      ]
     },
     "execution_count": 24,
     "metadata": {},
     "output_type": "execute_result"
    }
   ],
   "source": [
    "doc[-2].is_right_punct"
   ]
  },
  {
   "cell_type": "code",
   "execution_count": 25,
   "id": "4f8d2099",
   "metadata": {},
   "outputs": [
    {
     "data": {
      "text/plain": [
       " "
      ]
     },
     "execution_count": 25,
     "metadata": {},
     "output_type": "execute_result"
    }
   ],
   "source": [
    "doc = nlp(\" \")\n",
    "doc[0]"
   ]
  },
  {
   "cell_type": "code",
   "execution_count": 26,
   "id": "713b5ef8",
   "metadata": {},
   "outputs": [
    {
     "data": {
      "text/plain": [
       "1"
      ]
     },
     "execution_count": 26,
     "metadata": {},
     "output_type": "execute_result"
    }
   ],
   "source": [
    "len(doc[0])"
   ]
  },
  {
   "cell_type": "code",
   "execution_count": 27,
   "id": "98ac87fd",
   "metadata": {},
   "outputs": [
    {
     "data": {
      "text/plain": [
       "True"
      ]
     },
     "execution_count": 27,
     "metadata": {},
     "output_type": "execute_result"
    }
   ],
   "source": [
    "doc[0].is_space"
   ]
  },
  {
   "cell_type": "code",
   "execution_count": 28,
   "id": "eb18dd3e",
   "metadata": {},
   "outputs": [
    {
     "data": {
      "text/plain": [
       "  "
      ]
     },
     "execution_count": 28,
     "metadata": {},
     "output_type": "execute_result"
    }
   ],
   "source": [
    "doc = nlp('  ')\n",
    "doc[0]"
   ]
  },
  {
   "cell_type": "code",
   "execution_count": 29,
   "id": "7a0a27ef",
   "metadata": {},
   "outputs": [
    {
     "data": {
      "text/plain": [
       "2"
      ]
     },
     "execution_count": 29,
     "metadata": {},
     "output_type": "execute_result"
    }
   ],
   "source": [
    "len(doc[0])"
   ]
  },
  {
   "cell_type": "code",
   "execution_count": 30,
   "id": "85068941",
   "metadata": {},
   "outputs": [
    {
     "data": {
      "text/plain": [
       "True"
      ]
     },
     "execution_count": 30,
     "metadata": {},
     "output_type": "execute_result"
    }
   ],
   "source": [
    "doc[0].is_space"
   ]
  },
  {
   "cell_type": "code",
   "execution_count": 31,
   "id": "79ea86ee",
   "metadata": {},
   "outputs": [
    {
     "data": {
      "text/plain": [
       "(True, True)"
      ]
     },
     "execution_count": 31,
     "metadata": {},
     "output_type": "execute_result"
    }
   ],
   "source": [
    "doc = nlp('( You said [1] and {2} is not applicable. )')\n",
    "doc[0].is_bracket, doc[-1].is_bracket"
   ]
  },
  {
   "cell_type": "code",
   "execution_count": 32,
   "id": "bacac483",
   "metadata": {},
   "outputs": [
    {
     "data": {
      "text/plain": [
       "(True, True)"
      ]
     },
     "execution_count": 32,
     "metadata": {},
     "output_type": "execute_result"
    }
   ],
   "source": [
    "doc[3].is_bracket, doc[5].is_bracket"
   ]
  },
  {
   "cell_type": "code",
   "execution_count": 33,
   "id": "4c0d431d",
   "metadata": {},
   "outputs": [
    {
     "data": {
      "text/plain": [
       "(True, True)"
      ]
     },
     "execution_count": 33,
     "metadata": {},
     "output_type": "execute_result"
    }
   ],
   "source": [
    "doc[7].is_bracket, doc[9].is_bracket"
   ]
  },
  {
   "cell_type": "code",
   "execution_count": 34,
   "id": "ecbc6cb1",
   "metadata": {},
   "outputs": [
    {
     "data": {
      "text/plain": [
       "'"
      ]
     },
     "execution_count": 34,
     "metadata": {},
     "output_type": "execute_result"
    }
   ],
   "source": [
    "doc = nlp(\"( You said '1\\\" is not applicable. )\")\n",
    "doc[3]"
   ]
  },
  {
   "cell_type": "code",
   "execution_count": 35,
   "id": "d0a19c6d",
   "metadata": {},
   "outputs": [
    {
     "data": {
      "text/plain": [
       "True"
      ]
     },
     "execution_count": 35,
     "metadata": {},
     "output_type": "execute_result"
    }
   ],
   "source": [
    "doc[3].is_quote"
   ]
  },
  {
   "cell_type": "code",
   "execution_count": 36,
   "id": "cbb1027a",
   "metadata": {},
   "outputs": [
    {
     "data": {
      "text/plain": [
       "\""
      ]
     },
     "execution_count": 36,
     "metadata": {},
     "output_type": "execute_result"
    }
   ],
   "source": [
    "doc[5]"
   ]
  },
  {
   "cell_type": "code",
   "execution_count": 37,
   "id": "18150807",
   "metadata": {},
   "outputs": [
    {
     "data": {
      "text/plain": [
       "True"
      ]
     },
     "execution_count": 37,
     "metadata": {},
     "output_type": "execute_result"
    }
   ],
   "source": [
    "doc[5].is_quote"
   ]
  },
  {
   "cell_type": "code",
   "execution_count": 38,
   "id": "7a200f2b",
   "metadata": {},
   "outputs": [
    {
     "data": {
      "text/plain": [
       "$"
      ]
     },
     "execution_count": 38,
     "metadata": {},
     "output_type": "execute_result"
    }
   ],
   "source": [
    "doc = nlp(\"I paid 12$ for the tshirt.\")\n",
    "doc[3]"
   ]
  },
  {
   "cell_type": "code",
   "execution_count": 39,
   "id": "efe0c9ad",
   "metadata": {},
   "outputs": [
    {
     "data": {
      "text/plain": [
       "True"
      ]
     },
     "execution_count": 39,
     "metadata": {},
     "output_type": "execute_result"
    }
   ],
   "source": [
    "doc[3].is_currency"
   ]
  },
  {
   "cell_type": "code",
   "execution_count": 41,
   "id": "eea12e1d",
   "metadata": {},
   "outputs": [
    {
     "data": {
      "text/plain": [
       "100"
      ]
     },
     "execution_count": 41,
     "metadata": {},
     "output_type": "execute_result"
    }
   ],
   "source": [
    "doc = nlp('I emailed you at least 100 times')\n",
    "doc[-2]"
   ]
  },
  {
   "cell_type": "code",
   "execution_count": 42,
   "id": "0d827de8",
   "metadata": {},
   "outputs": [
    {
     "data": {
      "text/plain": [
       "True"
      ]
     },
     "execution_count": 42,
     "metadata": {},
     "output_type": "execute_result"
    }
   ],
   "source": [
    "doc[-2].like_num"
   ]
  },
  {
   "cell_type": "code",
   "execution_count": 44,
   "id": "2ee73d57",
   "metadata": {},
   "outputs": [
    {
     "data": {
      "text/plain": [
       "hundred"
      ]
     },
     "execution_count": 44,
     "metadata": {},
     "output_type": "execute_result"
    }
   ],
   "source": [
    "doc = nlp('I emailed you at least a hundred times')\n",
    "doc[-2]"
   ]
  },
  {
   "cell_type": "code",
   "execution_count": 45,
   "id": "250072f5",
   "metadata": {},
   "outputs": [
    {
     "data": {
      "text/plain": [
       "True"
      ]
     },
     "execution_count": 45,
     "metadata": {},
     "output_type": "execute_result"
    }
   ],
   "source": [
    "doc[-2].like_num"
   ]
  },
  {
   "cell_type": "code",
   "execution_count": 46,
   "id": "75902303",
   "metadata": {},
   "outputs": [
    {
     "data": {
      "text/plain": [
       "duygu@packt.com"
      ]
     },
     "execution_count": 46,
     "metadata": {},
     "output_type": "execute_result"
    }
   ],
   "source": [
    "doc = nlp('My email is duygu@packt.com and you can visit me under https://duygua.github.io any time you want.')\n",
    "doc[3]"
   ]
  },
  {
   "cell_type": "code",
   "execution_count": 47,
   "id": "cdb10596",
   "metadata": {},
   "outputs": [
    {
     "data": {
      "text/plain": [
       "True"
      ]
     },
     "execution_count": 47,
     "metadata": {},
     "output_type": "execute_result"
    }
   ],
   "source": [
    "doc[3].like_email"
   ]
  },
  {
   "cell_type": "code",
   "execution_count": 48,
   "id": "353c989b",
   "metadata": {},
   "outputs": [
    {
     "data": {
      "text/plain": [
       "https://duygua.github.io"
      ]
     },
     "execution_count": 48,
     "metadata": {},
     "output_type": "execute_result"
    }
   ],
   "source": [
    "doc[10]"
   ]
  },
  {
   "cell_type": "code",
   "execution_count": 49,
   "id": "29cd96b5",
   "metadata": {},
   "outputs": [
    {
     "data": {
      "text/plain": [
       "True"
      ]
     },
     "execution_count": 49,
     "metadata": {},
     "output_type": "execute_result"
    }
   ],
   "source": [
    "doc[10].like_url"
   ]
  },
  {
   "cell_type": "code",
   "execution_count": 50,
   "id": "f99ec4af",
   "metadata": {},
   "outputs": [
    {
     "name": "stdout",
     "output_type": "stream",
     "text": [
      "Girl Xxxx\n",
      "called xxxx\n",
      "Kathy Xxxxx\n",
      "has xxx\n",
      "a x\n",
      "nickname xxxx\n",
      "Cat123 Xxxddd\n",
      ". .\n"
     ]
    }
   ],
   "source": [
    "doc = nlp('Girl called Kathy has a nickname Cat123.')\n",
    "for token in doc:\n",
    "    print(token.text, token.shape_)"
   ]
  },
  {
   "cell_type": "code",
   "execution_count": 51,
   "id": "aebcc572",
   "metadata": {},
   "outputs": [
    {
     "name": "stdout",
     "output_type": "stream",
     "text": [
      "I False\n",
      "visited False\n",
      "Jenny False\n",
      "at False\n",
      "Mynks True\n",
      "Resort False\n"
     ]
    }
   ],
   "source": [
    "doc = nlp('I visited Jenny at Mynks Resort')\n",
    "for token in doc:\n",
    "    print(token, token.is_oov)"
   ]
  },
  {
   "cell_type": "code",
   "execution_count": 52,
   "id": "c5918198",
   "metadata": {},
   "outputs": [
    {
     "name": "stdout",
     "output_type": "stream",
     "text": [
      "I True\n",
      "just True\n",
      "want False\n",
      "to True\n",
      "inform False\n",
      "you True\n",
      "that True\n",
      "I True\n",
      "was True\n",
      "with True\n",
      "the True\n",
      "principle False\n",
      ". False\n"
     ]
    }
   ],
   "source": [
    "doc = nlp('I just want to inform you that I was with the principle.')\n",
    "for token in doc:\n",
    "    print(token, token.is_stop)"
   ]
  },
  {
   "cell_type": "code",
   "execution_count": null,
   "id": "0baed7ac",
   "metadata": {},
   "outputs": [],
   "source": []
  }
 ],
 "metadata": {
  "kernelspec": {
   "display_name": "Python 3 (ipykernel)",
   "language": "python",
   "name": "python3"
  },
  "language_info": {
   "codemirror_mode": {
    "name": "ipython",
    "version": 3
   },
   "file_extension": ".py",
   "mimetype": "text/x-python",
   "name": "python",
   "nbconvert_exporter": "python",
   "pygments_lexer": "ipython3",
   "version": "3.9.7"
  }
 },
 "nbformat": 4,
 "nbformat_minor": 5
}
