{
 "cells": [
  {
   "cell_type": "code",
   "execution_count": 1,
   "id": "3a28de9c",
   "metadata": {},
   "outputs": [
    {
     "name": "stderr",
     "output_type": "stream",
     "text": [
      "2022-05-26 23:40:22.868286: W tensorflow/stream_executor/platform/default/dso_loader.cc:64] Could not load dynamic library 'libcudart.so.11.0'; dlerror: libcudart.so.11.0: cannot open shared object file: No such file or directory; LD_LIBRARY_PATH: /home/nicolas/openssl/lib\n",
      "2022-05-26 23:40:22.868352: I tensorflow/stream_executor/cuda/cudart_stub.cc:29] Ignore above cudart dlerror if you do not have a GPU set up on your machine.\n"
     ]
    },
    {
     "data": {
      "text/plain": [
       "that you"
      ]
     },
     "execution_count": 1,
     "metadata": {},
     "output_type": "execute_result"
    }
   ],
   "source": [
    "import spacy\n",
    "nlp = spacy.load('en_core_web_md')\n",
    "doc = nlp('I know that you have been to USA.')\n",
    "doc[2:4]"
   ]
  },
  {
   "cell_type": "code",
   "execution_count": 2,
   "id": "4170204a",
   "metadata": {},
   "outputs": [
    {
     "data": {
      "text/plain": [
       "City."
      ]
     },
     "execution_count": 2,
     "metadata": {},
     "output_type": "execute_result"
    }
   ],
   "source": [
    "doc2 = nlp('President Trump visited Mexico City.')\n",
    "doc2[4:]"
   ]
  },
  {
   "cell_type": "code",
   "execution_count": 3,
   "id": "9b75746f",
   "metadata": {},
   "outputs": [
    {
     "data": {
      "text/plain": [
       "Mexico City"
      ]
     },
     "execution_count": 3,
     "metadata": {},
     "output_type": "execute_result"
    }
   ],
   "source": [
    "doc2[3:-1]"
   ]
  },
  {
   "cell_type": "code",
   "execution_count": 4,
   "id": "c8b1b763",
   "metadata": {},
   "outputs": [
    {
     "data": {
      "text/plain": [
       "love Atlanta"
      ]
     },
     "execution_count": 4,
     "metadata": {},
     "output_type": "execute_result"
    }
   ],
   "source": [
    "doc3 = nlp(\"You love Atlanta since you're 20.\")\n",
    "doc3.char_span(4, 16)"
   ]
  },
  {
   "cell_type": "code",
   "execution_count": 5,
   "id": "db295a53",
   "metadata": {},
   "outputs": [
    {
     "name": "stdout",
     "output_type": "stream",
     "text": [
      "there\n",
      "after\n"
     ]
    }
   ],
   "source": [
    "doc4 = nlp('You went there after you saw me')\n",
    "span = doc4[2:4]\n",
    "for token in span:\n",
    "    print(token)"
   ]
  },
  {
   "cell_type": "code",
   "execution_count": 20,
   "id": "86df9f32",
   "metadata": {},
   "outputs": [
    {
     "data": {
      "text/plain": [
       "You went"
      ]
     },
     "execution_count": 20,
     "metadata": {},
     "output_type": "execute_result"
    }
   ],
   "source": [
    "span1 = doc4[0:2]\n",
    "span1"
   ]
  },
  {
   "cell_type": "code",
   "execution_count": 21,
   "id": "da7ae3dd",
   "metadata": {},
   "outputs": [
    {
     "data": {
      "text/plain": [
       "there after"
      ]
     },
     "execution_count": 21,
     "metadata": {},
     "output_type": "execute_result"
    }
   ],
   "source": [
    "span2 = doc4[2:4]\n",
    "span2"
   ]
  },
  {
   "cell_type": "code",
   "execution_count": 23,
   "id": "f8a5dc53",
   "metadata": {},
   "outputs": [
    {
     "data": {
      "text/plain": [
       "You went there after"
      ]
     },
     "execution_count": 23,
     "metadata": {},
     "output_type": "execute_result"
    }
   ],
   "source": [
    "doc4[span1.start:span2.end]"
   ]
  },
  {
   "cell_type": "code",
   "execution_count": 27,
   "id": "d6f4279c",
   "metadata": {},
   "outputs": [
    {
     "data": {
      "text/plain": [
       "after"
      ]
     },
     "execution_count": 27,
     "metadata": {},
     "output_type": "execute_result"
    }
   ],
   "source": [
    "doc4[3]"
   ]
  },
  {
   "cell_type": "code",
   "execution_count": 6,
   "id": "307b3dc8",
   "metadata": {},
   "outputs": [
    {
     "data": {
      "text/plain": [
       "1"
      ]
     },
     "execution_count": 6,
     "metadata": {},
     "output_type": "execute_result"
    }
   ],
   "source": [
    "doc5 = nlp('Hello Madam!')\n",
    "span = doc5[1:2]\n",
    "len(span)"
   ]
  },
  {
   "cell_type": "code",
   "execution_count": 7,
   "id": "a8d0427c",
   "metadata": {},
   "outputs": [
    {
     "data": {
      "text/plain": [
       "there after you saw"
      ]
     },
     "execution_count": 7,
     "metadata": {},
     "output_type": "execute_result"
    }
   ],
   "source": [
    "span = doc4[2:6]\n",
    "span"
   ]
  },
  {
   "cell_type": "code",
   "execution_count": 8,
   "id": "d623d0d5",
   "metadata": {},
   "outputs": [
    {
     "data": {
      "text/plain": [
       "after you"
      ]
     },
     "execution_count": 8,
     "metadata": {},
     "output_type": "execute_result"
    }
   ],
   "source": [
    "subspan = span[1:3]\n",
    "subspan"
   ]
  },
  {
   "cell_type": "code",
   "execution_count": 9,
   "id": "9773f893",
   "metadata": {},
   "outputs": [
    {
     "data": {
      "text/plain": [
       "after you"
      ]
     },
     "execution_count": 9,
     "metadata": {},
     "output_type": "execute_result"
    }
   ],
   "source": [
    "span.char_span(6, 15)"
   ]
  },
  {
   "cell_type": "code",
   "execution_count": 10,
   "id": "f5ee9e46",
   "metadata": {},
   "outputs": [
    {
     "data": {
      "text/plain": [
       "You went there after you saw me"
      ]
     },
     "execution_count": 10,
     "metadata": {},
     "output_type": "execute_result"
    }
   ],
   "source": [
    "span.doc"
   ]
  },
  {
   "cell_type": "code",
   "execution_count": 11,
   "id": "1e8b0922",
   "metadata": {},
   "outputs": [
    {
     "data": {
      "text/plain": [
       "You went there after you saw me"
      ]
     },
     "execution_count": 11,
     "metadata": {},
     "output_type": "execute_result"
    }
   ],
   "source": [
    "span.sent"
   ]
  },
  {
   "cell_type": "code",
   "execution_count": 12,
   "id": "9d10d8a4",
   "metadata": {},
   "outputs": [
    {
     "data": {
      "text/plain": [
       "2"
      ]
     },
     "execution_count": 12,
     "metadata": {},
     "output_type": "execute_result"
    }
   ],
   "source": [
    "span.start"
   ]
  },
  {
   "cell_type": "code",
   "execution_count": 13,
   "id": "c070ce05",
   "metadata": {},
   "outputs": [
    {
     "data": {
      "text/plain": [
       "6"
      ]
     },
     "execution_count": 13,
     "metadata": {},
     "output_type": "execute_result"
    }
   ],
   "source": [
    "span.end"
   ]
  },
  {
   "cell_type": "code",
   "execution_count": 14,
   "id": "94185405",
   "metadata": {},
   "outputs": [
    {
     "data": {
      "text/plain": [
       "9"
      ]
     },
     "execution_count": 14,
     "metadata": {},
     "output_type": "execute_result"
    }
   ],
   "source": [
    "span.start_char"
   ]
  },
  {
   "cell_type": "code",
   "execution_count": 15,
   "id": "ab047290",
   "metadata": {},
   "outputs": [
    {
     "data": {
      "text/plain": [
       "28"
      ]
     },
     "execution_count": 15,
     "metadata": {},
     "output_type": "execute_result"
    }
   ],
   "source": [
    "span.end_char"
   ]
  },
  {
   "cell_type": "code",
   "execution_count": 19,
   "id": "d1f17d12",
   "metadata": {},
   "outputs": [
    {
     "data": {
      "text/plain": [
       "[there, after, you, saw]"
      ]
     },
     "execution_count": 19,
     "metadata": {},
     "output_type": "execute_result"
    }
   ],
   "source": [
    "small_doc = span.as_doc()\n",
    "[token for token in small_doc]"
   ]
  },
  {
   "cell_type": "code",
   "execution_count": 17,
   "id": "ab6dbef0",
   "metadata": {},
   "outputs": [
    {
     "data": {
      "text/plain": [
       "spacy.tokens.span.Span"
      ]
     },
     "execution_count": 17,
     "metadata": {},
     "output_type": "execute_result"
    }
   ],
   "source": [
    "type(span)"
   ]
  },
  {
   "cell_type": "code",
   "execution_count": 18,
   "id": "626a2eb5",
   "metadata": {},
   "outputs": [
    {
     "data": {
      "text/plain": [
       "spacy.tokens.doc.Doc"
      ]
     },
     "execution_count": 18,
     "metadata": {},
     "output_type": "execute_result"
    }
   ],
   "source": [
    "type(small_doc)"
   ]
  }
 ],
 "metadata": {
  "kernelspec": {
   "display_name": "Python 3.9.7 ('nlp')",
   "language": "python",
   "name": "python3"
  },
  "language_info": {
   "codemirror_mode": {
    "name": "ipython",
    "version": 3
   },
   "file_extension": ".py",
   "mimetype": "text/x-python",
   "name": "python",
   "nbconvert_exporter": "python",
   "pygments_lexer": "ipython3",
   "version": "3.9.7"
  },
  "vscode": {
   "interpreter": {
    "hash": "788ff9e221da96786f0787fa034c6a6d4ee2301f6a202844060c0567f22b56e1"
   }
  }
 },
 "nbformat": 4,
 "nbformat_minor": 5
}
