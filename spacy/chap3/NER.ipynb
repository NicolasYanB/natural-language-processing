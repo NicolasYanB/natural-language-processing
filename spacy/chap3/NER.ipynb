{
 "cells": [
  {
   "cell_type": "code",
   "execution_count": 1,
   "metadata": {},
   "outputs": [
    {
     "name": "stderr",
     "output_type": "stream",
     "text": [
      "2022-03-09 06:32:36.347081: W tensorflow/stream_executor/platform/default/dso_loader.cc:64] Could not load dynamic library 'libcudart.so.11.0'; dlerror: libcudart.so.11.0: cannot open shared object file: No such file or directory; LD_LIBRARY_PATH: /home/nicolas/openssl/lib\n",
      "2022-03-09 06:32:36.347142: I tensorflow/stream_executor/cuda/cudart_stub.cc:29] Ignore above cudart dlerror if you do not have a GPU set up on your machine.\n"
     ]
    }
   ],
   "source": [
    "import spacy\n",
    "nlp = spacy.load('en_core_web_md')"
   ]
  },
  {
   "cell_type": "code",
   "execution_count": 2,
   "metadata": {},
   "outputs": [
    {
     "data": {
      "text/plain": [
       "(Donald Trump, France)"
      ]
     },
     "execution_count": 2,
     "metadata": {},
     "output_type": "execute_result"
    }
   ],
   "source": [
    "doc = nlp('The president Donald Trump visited France.')\n",
    "doc.ents"
   ]
  },
  {
   "cell_type": "code",
   "execution_count": 3,
   "metadata": {},
   "outputs": [
    {
     "data": {
      "text/plain": [
       "spacy.tokens.span.Span"
      ]
     },
     "execution_count": 3,
     "metadata": {},
     "output_type": "execute_result"
    }
   ],
   "source": [
    "type(doc.ents[1])"
   ]
  },
  {
   "cell_type": "code",
   "execution_count": 4,
   "metadata": {},
   "outputs": [
    {
     "data": {
      "text/plain": [
       "'Companies, agencies, institutions, etc.'"
      ]
     },
     "execution_count": 4,
     "metadata": {},
     "output_type": "execute_result"
    }
   ],
   "source": [
    "spacy.explain('ORG')"
   ]
  },
  {
   "cell_type": "code",
   "execution_count": 5,
   "metadata": {},
   "outputs": [
    {
     "name": "stdout",
     "output_type": "stream",
     "text": [
      "('ORG', 'Companies, agencies, institutions, etc.')\n"
     ]
    }
   ],
   "source": [
    "doc = nlp('He worked for NASA')\n",
    "token = doc[3]\n",
    "print((token.ent_type_, spacy.explain(token.ent_type_)))"
   ]
  },
  {
   "cell_type": "code",
   "execution_count": 6,
   "metadata": {},
   "outputs": [
    {
     "data": {
      "text/plain": [
       "(Albert Einstein, Ulm, 1879, ETH Zurich)"
      ]
     },
     "execution_count": 6,
     "metadata": {},
     "output_type": "execute_result"
    }
   ],
   "source": [
    "doc = nlp('Albert Einstein was born in Ulm on 1879. He studied electronical engineering at ETH Zurich.')\n",
    "doc.ents"
   ]
  },
  {
   "cell_type": "code",
   "execution_count": 7,
   "metadata": {},
   "outputs": [
    {
     "name": "stdout",
     "output_type": "stream",
     "text": [
      "('Albert', 'PERSON', 'People, including fictional')\n",
      "('Einstein', 'PERSON', 'People, including fictional')\n",
      "('was', '', None)\n",
      "('born', '', None)\n",
      "('in', '', None)\n",
      "('Ulm', 'GPE', 'Countries, cities, states')\n",
      "('on', '', None)\n",
      "('1879', 'DATE', 'Absolute or relative dates or periods')\n",
      "('.', '', None)\n",
      "('He', '', None)\n",
      "('studied', '', None)\n",
      "('electronical', '', None)\n",
      "('engineering', '', None)\n",
      "('at', '', None)\n",
      "('ETH', 'ORG', 'Companies, agencies, institutions, etc.')\n",
      "('Zurich', 'ORG', 'Companies, agencies, institutions, etc.')\n",
      "('.', '', None)\n"
     ]
    }
   ],
   "source": [
    "for token in doc:\n",
    "    print((token.text, token.ent_type_, spacy.explain(token.ent_type_)))"
   ]
  },
  {
   "cell_type": "code",
   "execution_count": 8,
   "metadata": {},
   "outputs": [
    {
     "data": {
      "text/plain": [
       "(Jean-Michael Basquiat, American, Haitian, Puerto Rican)"
      ]
     },
     "execution_count": 8,
     "metadata": {},
     "output_type": "execute_result"
    }
   ],
   "source": [
    "doc = nlp('Jean-Michael Basquiat was an American artist of Haitian and Puerto Rican descent who gained fame with his graffiti and street art work.')\n",
    "doc.ents"
   ]
  },
  {
   "cell_type": "code",
   "execution_count": 9,
   "metadata": {},
   "outputs": [
    {
     "name": "stdout",
     "output_type": "stream",
     "text": [
      "(Jean-Michael Basquiat, 'PERSON', 'People, including fictional')\n",
      "(American, 'NORP', 'Nationalities or religious or political groups')\n",
      "(Haitian, 'NORP', 'Nationalities or religious or political groups')\n",
      "(Puerto Rican, 'NORP', 'Nationalities or religious or political groups')\n"
     ]
    }
   ],
   "source": [
    "for ent in doc.ents:\n",
    "    print((ent, ent.label_, spacy.explain(ent.label_)))"
   ]
  }
 ],
 "metadata": {
  "interpreter": {
   "hash": "788ff9e221da96786f0787fa034c6a6d4ee2301f6a202844060c0567f22b56e1"
  },
  "kernelspec": {
   "display_name": "Python 3.9.7 ('nlp')",
   "language": "python",
   "name": "python3"
  },
  "language_info": {
   "codemirror_mode": {
    "name": "ipython",
    "version": 3
   },
   "file_extension": ".py",
   "mimetype": "text/x-python",
   "name": "python",
   "nbconvert_exporter": "python",
   "pygments_lexer": "ipython3",
   "version": "3.9.7"
  },
  "orig_nbformat": 4
 },
 "nbformat": 4,
 "nbformat_minor": 2
}
