{
 "cells": [
  {
   "cell_type": "code",
   "execution_count": 2,
   "metadata": {},
   "outputs": [
    {
     "name": "stderr",
     "output_type": "stream",
     "text": [
      "2022-03-21 20:48:44.223946: W tensorflow/stream_executor/platform/default/dso_loader.cc:64] Could not load dynamic library 'libcudart.so.11.0'; dlerror: libcudart.so.11.0: cannot open shared object file: No such file or directory; LD_LIBRARY_PATH: /home/nicolas/openssl/lib\n",
      "2022-03-21 20:48:44.223974: I tensorflow/stream_executor/cuda/cudart_stub.cc:29] Ignore above cudart dlerror if you do not have a GPU set up on your machine.\n"
     ]
    }
   ],
   "source": [
    "import spacy\n",
    "nlp = spacy.load('en_core_web_md')"
   ]
  },
  {
   "cell_type": "code",
   "execution_count": 3,
   "metadata": {},
   "outputs": [
    {
     "name": "stdout",
     "output_type": "stream",
     "text": [
      "('blue', 'amod')\n",
      "('flower', 'ROOT')\n"
     ]
    }
   ],
   "source": [
    "doc = nlp('blue flower')\n",
    "for token in doc:\n",
    "    print((token.text, token.dep_))"
   ]
  },
  {
   "cell_type": "code",
   "execution_count": 4,
   "metadata": {},
   "outputs": [
    {
     "data": {
      "text/plain": [
       "'nominal subject'"
      ]
     },
     "execution_count": 4,
     "metadata": {},
     "output_type": "execute_result"
    }
   ],
   "source": [
    "spacy.explain('nsubj')"
   ]
  },
  {
   "cell_type": "code",
   "execution_count": 5,
   "metadata": {},
   "outputs": [
    {
     "name": "stdout",
     "output_type": "stream",
     "text": [
      "('cat', 'dobj', 'direct object')\n"
     ]
    }
   ],
   "source": [
    "doc = nlp('I own a ginger cat.')\n",
    "token = doc[4]\n",
    "print((token.text, token.dep_, spacy.explain(token.dep_)))"
   ]
  },
  {
   "cell_type": "code",
   "execution_count": 6,
   "metadata": {},
   "outputs": [
    {
     "name": "stdout",
     "output_type": "stream",
     "text": [
      "('I', 'PRON', 'nsubj')\n",
      "('counted', 'VERB', 'ROOT')\n",
      "('white', 'ADJ', 'amod')\n",
      "('sheep', 'NOUN', 'dobj')\n",
      "('.', 'PUNCT', 'punct')\n"
     ]
    }
   ],
   "source": [
    "doc = nlp('I counted white sheep.')\n",
    "for token in doc:\n",
    "    print((token.text, token.pos_, token.dep_))"
   ]
  },
  {
   "cell_type": "code",
   "execution_count": 7,
   "metadata": {},
   "outputs": [
    {
     "name": "stdout",
     "output_type": "stream",
     "text": [
      "('We', 'PRP', 'nsubj', 2)\n",
      "('are', 'VBP', 'aux', 2)\n",
      "('trying', 'VBG', 'ROOT', 2)\n",
      "('to', 'TO', 'aux', 4)\n",
      "('understand', 'VB', 'xcomp', 2)\n",
      "('the', 'DT', 'det', 6)\n",
      "('difference', 'NN', 'dobj', 4)\n",
      "('.', '.', 'punct', 2)\n"
     ]
    }
   ],
   "source": [
    "doc = nlp('We are trying to understand the difference.')\n",
    "for token in doc:\n",
    "    print((token.text, token.tag_, token.dep_))"
   ]
  },
  {
   "cell_type": "code",
   "execution_count": 8,
   "metadata": {},
   "outputs": [
    {
     "name": "stdout",
     "output_type": "stream",
     "text": [
      "('Queen', 'NNP', 'compound', Katherine)\n",
      "('Katherine', 'NNP', 'nsubj', died)\n",
      "(',', ',', 'punct', Katherine)\n",
      "('who', 'WP', 'nsubj', was)\n",
      "('was', 'VBD', 'relcl', Katherine)\n",
      "('the', 'DT', 'det', mother)\n",
      "('mother', 'NN', 'attr', was)\n",
      "('of', 'IN', 'prep', mother)\n",
      "('Mary', 'NNP', 'compound', Tudor)\n",
      "('Tudor', 'NNP', 'pobj', of)\n",
      "(',', ',', 'punct', Katherine)\n",
      "('died', 'VBD', 'ROOT', died)\n",
      "('at', 'IN', 'prep', died)\n",
      "('1536', 'CD', 'pobj', at)\n",
      "('.', '.', 'punct', died)\n"
     ]
    }
   ],
   "source": [
    "doc = nlp('Queen Katherine, who was the mother of Mary Tudor, died at 1536.')\n",
    "for token in doc:\n",
    "    print((token.text, token.tag_, token.dep_, token.head))"
   ]
  }
 ],
 "metadata": {
  "interpreter": {
   "hash": "788ff9e221da96786f0787fa034c6a6d4ee2301f6a202844060c0567f22b56e1"
  },
  "kernelspec": {
   "display_name": "Python 3.9.7 ('nlp')",
   "language": "python",
   "name": "python3"
  },
  "language_info": {
   "codemirror_mode": {
    "name": "ipython",
    "version": 3
   },
   "file_extension": ".py",
   "mimetype": "text/x-python",
   "name": "python",
   "nbconvert_exporter": "python",
   "pygments_lexer": "ipython3",
   "version": "3.9.7"
  },
  "orig_nbformat": 4
 },
 "nbformat": 4,
 "nbformat_minor": 2
}
