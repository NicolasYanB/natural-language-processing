{
 "cells": [
  {
   "cell_type": "code",
   "execution_count": 10,
   "metadata": {},
   "outputs": [],
   "source": [
    "import spacy\n",
    "nlp = spacy.load('en_core_web_md')"
   ]
  },
  {
   "cell_type": "code",
   "execution_count": 15,
   "metadata": {},
   "outputs": [],
   "source": [
    "class Node:\n",
    "    def __init__(self, token):\n",
    "        self.token = token\n",
    "        self.children = []"
   ]
  },
  {
   "cell_type": "code",
   "execution_count": 13,
   "metadata": {},
   "outputs": [],
   "source": [
    "class Tree:\n",
    "    def __init__(self, head=None):\n",
    "        self.root = head"
   ]
  },
  {
   "cell_type": "code",
   "execution_count": 11,
   "metadata": {},
   "outputs": [],
   "source": [
    "doc = nlp('Queen Katherine, who was the mother of Mary Tudor, died at 1536.')"
   ]
  },
  {
   "cell_type": "code",
   "execution_count": 12,
   "metadata": {},
   "outputs": [
    {
     "data": {
      "text/plain": [
       "died"
      ]
     },
     "execution_count": 12,
     "metadata": {},
     "output_type": "execute_result"
    }
   ],
   "source": [
    "head = [token for token in doc if token.dep_ == 'ROOT'][0]\n",
    "head"
   ]
  },
  {
   "cell_type": "code",
   "execution_count": 16,
   "metadata": {},
   "outputs": [],
   "source": [
    "root = Node(head)"
   ]
  },
  {
   "cell_type": "code",
   "execution_count": 21,
   "metadata": {},
   "outputs": [],
   "source": [
    "def make_tree(root, doc, visited_tokens=[root.token]):\n",
    "    for token in doc:\n",
    "        if token in visited_tokens:\n",
    "            continue\n",
    "        if token.head == root.token:\n",
    "            new_node = Node(token)\n",
    "            root.children.append(new_node)\n",
    "            visited_tokens.append(token)\n",
    "            make_tree(new_node, doc, visited_tokens=visited_tokens)"
   ]
  },
  {
   "cell_type": "code",
   "execution_count": 25,
   "metadata": {},
   "outputs": [
    {
     "data": {
      "text/plain": [
       "[('Katherine', 'nsubj'), ('at', 'prep'), ('.', 'punct')]"
      ]
     },
     "execution_count": 25,
     "metadata": {},
     "output_type": "execute_result"
    }
   ],
   "source": [
    "make_tree(root, doc)\n",
    "[(node.token.text, node.token.dep_) for node in root.children]"
   ]
  },
  {
   "cell_type": "code",
   "execution_count": 28,
   "metadata": {},
   "outputs": [],
   "source": [
    "def print_tree(root):\n",
    "    tree = f'{root.token.text} -> {[(node.token.text, spacy.explain(node.token.dep_)) for node in root.children]}'\n",
    "    print(tree)\n",
    "    for child in root.children:\n",
    "        print_tree(child)"
   ]
  },
  {
   "cell_type": "code",
   "execution_count": 29,
   "metadata": {},
   "outputs": [
    {
     "name": "stdout",
     "output_type": "stream",
     "text": [
      "died -> [('Katherine', 'nominal subject'), ('at', 'prepositional modifier'), ('.', 'punctuation')]\n",
      "Katherine -> [('Queen', 'compound'), (',', 'punctuation'), ('was', 'relative clause modifier'), (',', 'punctuation')]\n",
      "Queen -> []\n",
      ", -> []\n",
      "was -> [('who', 'nominal subject'), ('mother', 'attribute')]\n",
      "who -> []\n",
      "mother -> [('the', 'determiner'), ('of', 'prepositional modifier')]\n",
      "the -> []\n",
      "of -> [('Tudor', 'object of preposition')]\n",
      "Tudor -> [('Mary', 'compound')]\n",
      "Mary -> []\n",
      ", -> []\n",
      "at -> [('1536', 'object of preposition')]\n",
      "1536 -> []\n",
      ". -> []\n"
     ]
    }
   ],
   "source": [
    "print_tree(root)"
   ]
  }
 ],
 "metadata": {
  "interpreter": {
   "hash": "788ff9e221da96786f0787fa034c6a6d4ee2301f6a202844060c0567f22b56e1"
  },
  "kernelspec": {
   "display_name": "Python 3.9.7 ('nlp')",
   "language": "python",
   "name": "python3"
  },
  "language_info": {
   "codemirror_mode": {
    "name": "ipython",
    "version": 3
   },
   "file_extension": ".py",
   "mimetype": "text/x-python",
   "name": "python",
   "nbconvert_exporter": "python",
   "pygments_lexer": "ipython3",
   "version": "3.9.7"
  },
  "orig_nbformat": 4
 },
 "nbformat": 4,
 "nbformat_minor": 2
}
