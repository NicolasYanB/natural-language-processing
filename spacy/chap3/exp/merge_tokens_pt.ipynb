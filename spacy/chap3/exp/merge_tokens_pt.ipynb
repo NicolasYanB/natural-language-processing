{
 "cells": [
  {
   "cell_type": "code",
   "execution_count": 2,
   "metadata": {},
   "outputs": [
    {
     "name": "stderr",
     "output_type": "stream",
     "text": [
      "2022-03-18 07:21:34.092051: W tensorflow/stream_executor/platform/default/dso_loader.cc:64] Could not load dynamic library 'libcudart.so.11.0'; dlerror: libcudart.so.11.0: cannot open shared object file: No such file or directory; LD_LIBRARY_PATH: /home/nicolas/openssl/lib\n",
      "2022-03-18 07:21:34.092078: I tensorflow/stream_executor/cuda/cudart_stub.cc:29] Ignore above cudart dlerror if you do not have a GPU set up on your machine.\n"
     ]
    }
   ],
   "source": [
    "import spacy\n",
    "nlp = spacy.load('pt_core_news_md')"
   ]
  },
  {
   "cell_type": "code",
   "execution_count": 3,
   "metadata": {},
   "outputs": [
    {
     "data": {
      "text/plain": [
       "[(O, 0, ''),\n",
       " (mandato, 1, ''),\n",
       " (do, 2, ''),\n",
       " (presidente, 3, ''),\n",
       " (Jair, 4, 'PER'),\n",
       " (Bolsonaro, 5, 'PER'),\n",
       " (comecou, 6, ''),\n",
       " (em, 7, ''),\n",
       " (2018, 8, ''),\n",
       " (., 9, '')]"
      ]
     },
     "execution_count": 3,
     "metadata": {},
     "output_type": "execute_result"
    }
   ],
   "source": [
    "doc = nlp('O mandato do presidente Jair Bolsonaro comecou em 2018.')\n",
    "[(token, token.i, token.ent_type_) for token in doc]"
   ]
  },
  {
   "cell_type": "code",
   "execution_count": 12,
   "metadata": {},
   "outputs": [],
   "source": [
    "def merge_names(doc):\n",
    "    start = None\n",
    "    finish = None\n",
    "    for token in doc:\n",
    "        if token.ent_type_ == 'PER':\n",
    "            if start is None:\n",
    "                start = token.i\n",
    "                finish = start\n",
    "            else:\n",
    "                if token.i == start+1 or token.i == finish+1:\n",
    "                    finish = token.i\n",
    "    if start is None:\n",
    "        return\n",
    "    with doc.retokenize() as retokenizer:\n",
    "        retokenizer.merge(doc[start:finish+1])"
   ]
  },
  {
   "cell_type": "code",
   "execution_count": 9,
   "metadata": {},
   "outputs": [
    {
     "data": {
      "text/plain": [
       "[('Osama Bin Laden', 0),\n",
       " ('orquestrou', 1),\n",
       " ('o', 2),\n",
       " ('ataque', 3),\n",
       " ('de', 4),\n",
       " ('11', 5),\n",
       " ('de', 6),\n",
       " ('setembro', 7),\n",
       " ('de', 8),\n",
       " ('2001', 9),\n",
       " ('.', 10)]"
      ]
     },
     "execution_count": 9,
     "metadata": {},
     "output_type": "execute_result"
    }
   ],
   "source": [
    "merge_names(doc)\n",
    "[(token.text, token.i) for token in doc]"
   ]
  },
  {
   "cell_type": "code",
   "execution_count": 13,
   "metadata": {},
   "outputs": [
    {
     "data": {
      "text/plain": [
       "[('Osama', 0),\n",
       " ('Bin', 1),\n",
       " ('Laden', 2),\n",
       " ('orquestrou', 3),\n",
       " ('o', 4),\n",
       " ('ataque', 5),\n",
       " ('de', 6),\n",
       " ('11', 7),\n",
       " ('de', 8),\n",
       " ('setembro', 9),\n",
       " ('de', 10),\n",
       " ('2001', 11),\n",
       " ('.', 12)]"
      ]
     },
     "execution_count": 13,
     "metadata": {},
     "output_type": "execute_result"
    }
   ],
   "source": [
    "doc = nlp('Osama Bin Laden orquestrou o ataque de 11 de setembro de 2001.')\n",
    "[(token.text, token.i) for token in doc]"
   ]
  },
  {
   "cell_type": "code",
   "execution_count": 14,
   "metadata": {},
   "outputs": [
    {
     "data": {
      "text/plain": [
       "[('Osama Bin Laden', 0, 'PER'),\n",
       " ('orquestrou', 1, ''),\n",
       " ('o', 2, ''),\n",
       " ('ataque', 3, ''),\n",
       " ('de', 4, ''),\n",
       " ('11', 5, ''),\n",
       " ('de', 6, ''),\n",
       " ('setembro', 7, ''),\n",
       " ('de', 8, ''),\n",
       " ('2001', 9, ''),\n",
       " ('.', 10, '')]"
      ]
     },
     "execution_count": 14,
     "metadata": {},
     "output_type": "execute_result"
    }
   ],
   "source": [
    "merge_names(doc)\n",
    "[(token.text, token.i, token.ent_type_) for token in doc]"
   ]
  }
 ],
 "metadata": {
  "interpreter": {
   "hash": "788ff9e221da96786f0787fa034c6a6d4ee2301f6a202844060c0567f22b56e1"
  },
  "kernelspec": {
   "display_name": "Python 3.9.7 ('nlp')",
   "language": "python",
   "name": "python3"
  },
  "language_info": {
   "codemirror_mode": {
    "name": "ipython",
    "version": 3
   },
   "file_extension": ".py",
   "mimetype": "text/x-python",
   "name": "python",
   "nbconvert_exporter": "python",
   "pygments_lexer": "ipython3",
   "version": "3.9.7"
  },
  "orig_nbformat": 4
 },
 "nbformat": 4,
 "nbformat_minor": 2
}
