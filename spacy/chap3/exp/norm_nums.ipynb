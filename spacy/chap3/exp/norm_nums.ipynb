{
 "cells": [
  {
   "cell_type": "code",
   "execution_count": 33,
   "metadata": {},
   "outputs": [],
   "source": [
    "import spacy\n",
    "nlp = spacy.load('en_core_web_md')"
   ]
  },
  {
   "cell_type": "code",
   "execution_count": 58,
   "metadata": {},
   "outputs": [],
   "source": [
    "def write_number(number): #2135\n",
    "    _1_to_9 = {'1': 'one', '2': 'two', '3': 'three', '4': 'four', '5': 'five',\n",
    "            '6': 'six', '7': 'seven', '8': 'eight', '9': 'nine'}\n",
    "    _10_to_19 = {\n",
    "        '10': 'ten', '11': 'eleven', '12': 'twelve', '13': 'thirteen', '14': 'fourteen', '15': 'fifteen',\n",
    "        '16': 'sixteen', '17': 'seventeen', '19': 'nineten'\n",
    "    }\n",
    "    _20_to_90 = {\n",
    "        '2': 'twenty', '3': 'thirty', '4': 'forty', '5': 'fifty', '6': 'sixty', '7': 'seventy',\n",
    "        '8': 'eighty', '9': 'ninety'\n",
    "    }\n",
    "    symbols = {'.': 'dot'}\n",
    "\n",
    "    if '.' in number:\n",
    "        number = number.split('.')\n",
    "        s = write_number(number[0]) + ' dot' + write_number(number[1])\n",
    "        return s\n",
    "    \n",
    "    s = ''\n",
    "    for i in range(len(number)):\n",
    "        pos = len(number) - i\n",
    "        if pos == 4:\n",
    "            s += _1_to_9[number[i]] + ' ' + 'thousand' + ' '\n",
    "            continue\n",
    "        if pos == 3 and number[i] != '0':\n",
    "            s += _1_to_9[number[i]] + ' ' + 'hundred' + ' '\n",
    "            continue\n",
    "        if pos == 2 and number[i] != '0':\n",
    "            if number[:pos+1] in _10_to_19:\n",
    "                s += _10_to_19[number[:pos+1]]\n",
    "                continue\n",
    "            s += _20_to_90[number[i]]\n",
    "        if pos == 1 and number[i] != '0':\n",
    "            s += ' ' + _1_to_9[number[i]]\n",
    "    return s\n"
   ]
  },
  {
   "cell_type": "code",
   "execution_count": 54,
   "metadata": {},
   "outputs": [
    {
     "data": {
      "text/plain": [
       "'two thousand twenty'"
      ]
     },
     "execution_count": 54,
     "metadata": {},
     "output_type": "execute_result"
    }
   ],
   "source": [
    "write_number('2020')"
   ]
  },
  {
   "cell_type": "code",
   "execution_count": 36,
   "metadata": {},
   "outputs": [],
   "source": [
    "doc = nlp('He earned $5.5 million in 2020 and paid %35 tax.')"
   ]
  },
  {
   "cell_type": "code",
   "execution_count": 59,
   "metadata": {},
   "outputs": [],
   "source": [
    "def add_special_cases(doc):\n",
    "    for token in doc:\n",
    "        if token.tag_ == 'CD':\n",
    "            try:\n",
    "                number = write_number(token.text)\n",
    "                nlp.get_pipe('attribute_ruler').add([[{'TEXT': token.text}]], {'LEMMA': number})\n",
    "            except:\n",
    "                continue\n",
    "    return nlp(doc.text)"
   ]
  },
  {
   "cell_type": "code",
   "execution_count": 60,
   "metadata": {},
   "outputs": [],
   "source": [
    "new_doc = add_special_cases(doc)"
   ]
  },
  {
   "cell_type": "code",
   "execution_count": 61,
   "metadata": {},
   "outputs": [
    {
     "name": "stdout",
     "output_type": "stream",
     "text": [
      "('He', 'he')\n",
      "('earned', 'earn')\n",
      "('$', '$')\n",
      "('5.5', ' five dot five')\n",
      "('million', 'million')\n",
      "('in', 'in')\n",
      "('2020', 'two thousand twenty')\n",
      "('and', 'and')\n",
      "('paid', 'pay')\n",
      "('%', '%')\n",
      "('35', 'thirty five')\n",
      "('tax', 'tax')\n",
      "('.', '.')\n"
     ]
    }
   ],
   "source": [
    "for token in new_doc:\n",
    "    print((token.text, token.lemma_))"
   ]
  }
 ],
 "metadata": {
  "interpreter": {
   "hash": "788ff9e221da96786f0787fa034c6a6d4ee2301f6a202844060c0567f22b56e1"
  },
  "kernelspec": {
   "display_name": "Python 3.9.7 ('nlp')",
   "language": "python",
   "name": "python3"
  },
  "language_info": {
   "codemirror_mode": {
    "name": "ipython",
    "version": 3
   },
   "file_extension": ".py",
   "mimetype": "text/x-python",
   "name": "python",
   "nbconvert_exporter": "python",
   "pygments_lexer": "ipython3",
   "version": "3.9.7"
  },
  "orig_nbformat": 4
 },
 "nbformat": 4,
 "nbformat_minor": 2
}
