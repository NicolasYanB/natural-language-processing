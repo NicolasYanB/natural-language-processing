{
 "cells": [
  {
   "cell_type": "code",
   "execution_count": 19,
   "metadata": {},
   "outputs": [],
   "source": [
    "from bs4 import BeautifulSoup\n",
    "import requests\n",
    "import spacy\n",
    "from collections import Counter\n",
    "\n",
    "nlp = spacy.load('pt_core_news_md')"
   ]
  },
  {
   "cell_type": "code",
   "execution_count": 15,
   "metadata": {},
   "outputs": [],
   "source": [
    "def obter_texto(url):\n",
    "    res = requests.get(url)\n",
    "    html = res.text\n",
    "    soup = BeautifulSoup(html, 'html5lib')\n",
    "    for script in soup(['script', 'style', 'aside']):\n",
    "        script.extract()\n",
    "    text = soup.get_text()\n",
    "    return ' '.join(text.split())"
   ]
  },
  {
   "cell_type": "code",
   "execution_count": 16,
   "metadata": {},
   "outputs": [
    {
     "name": "stdout",
     "output_type": "stream",
     "text": [
      "Avião com 132 pessoas a bordo cai na China; veja vídeo | Mundo | G1 Mundo fique por dentro Vídeos no g1 Como você avalia a experiência de assistir este vídeo no g1? Muito ruim Muito boa Como podemos melhorar? Seguinte Queremos saber sua opinião Resposta enviada. Agradecemos sua participação. Avião com 132 pessoas a bordo cai na China; veja vídeo Um Boeing 737, da China Eastern Airlines, ia de Kunming e Guangzhou e caiu na região montanhosa de Guangxi, no sul. Ainda não há informações sobre vítimas. Por g1 21/03/2022 05h28 Atualizado 21/03/2022 Equipes de resgate trabalham no local do acidente com avião, na China Um avião do modelo Boeing 737-800 da China Eastern Airlines caiu nesta segunda-feira (21) no sul da China, segundo a agência de aviação civil do país. A aeronave transportava 132 pessoas de Kunming para Guangzhou. Ainda não há informação sobre o número de vítimas. O vídeo abaixo, obtido pela agência Newsflare com um veículo da imprensa local, mostra o momento em que a aeronave despenca do céu. O vídeo foi obtido pela agência Newsflare e divulgado pela Reuters. A Newsflare informa que a imagem é de câmera de segurança da empresa de mineração Wuzhou Beichen Mining, instalada a 5,8 km do local da queda do avião, e foi obtido pela imprensa local chinesa. ATENÇÃO: AS IMAGENS SÃO FORTES. Vídeo mostra momento em que avião cai na China. Crédito: Newsflare/ Reuters. Compartilhe no WhatsApp Equipes de resgate estão no local em busca de sobreviventes. 1 de 8 Avião com 132 pessoas cai em região montanhosa da China — Foto: Juan Souza/ Arte g1 Avião com 132 pessoas cai em região montanhosa da China — Foto: Juan Souza/ Arte g1 A queda aconteceu em Guangxi, região montanhosa no sul da China, e provocou um incêndio nas montanhas, segundo a TV estatal chinesa. A agência de aviação civil da China confirmou o episódio e informou que o voo fazia a rota entre as cidades de Kunming e Guangzhou. 2 de 8 Fumaça é vista em local onde avião caiu em Guangxi, na China — Foto: Reprodução/Twitter Fumaça é vista em local onde avião caiu em Guangxi, na China — Foto: Reprodução/Twitter 3 de 8 Destroços de uma aeronave registrados na região da queda pela tv estatal chinesa — Foto: CGTN Destroços de uma aeronave registrados na região da queda pela tv estatal chinesa — Foto: CGTN 4 de 8 Imagens de destroços do avião divulgados pela tv estatal chinesa — Foto: CGTN Imagens de destroços do avião divulgados pela tv estatal chinesa — Foto: CGTN A aeronave, um Boeing 737-800, tem bom histórico de segurança de voo. A Boeing informou que está coletando mais informações com autoridades locais para iniciar uma investigação sobre o caso. 5 de 8 Boeign 737-800 da China Eastern Airlines no aeroporto internacional de Wuhan, em fevereiro de 2021 — Foto: Hector Retamal / AFP Boeign 737-800 da China Eastern Airlines no aeroporto internacional de Wuhan, em fevereiro de 2021 — Foto: Hector Retamal / AFP LEIA TAMBÉM Avião que fazia voo de Fortaleza para São Paulo bate em pássaro e retorna para aeroportoAvião militar dos EUA com 4 a bordo cai no Ártico norueguês A TV estatal chinesa informou que a operação de resgate está a caminho do local (veja vídeo no início da reportagem). A emissora havia divulgado inicialmente que o avião transportava 133 pessoas, mas depois corrigiu para 132. Desse total, nove fazem parte da tripulação da aeronave. A queda aconteceu por volta das 14h30 no horário local. 6 de 8 Avião com 132 pessoas cai em região montanhosa da China — Foto: Juan Souza/ Arte g1 Avião com 132 pessoas cai em região montanhosa da China — Foto: Juan Souza/ Arte g1 A China Eastern Airlines colocou seu site em preto e branco, como costuma fazer quando há acidentes envolvendo seus aviões. 7 de 8 Site da China Eastern Airlines em preto e branco, com a companhia faz quando há acidentes envolvendo seus aviões. — Foto: Reprodução/ site da companhia Site da China Eastern Airlines em preto e branco, com a companhia faz quando há acidentes envolvendo seus aviões. — Foto: Reprodução/ site da companhia Rastreador de voo mostra trajeto de avião da China Eastern Airlines antes de acidente Boeing 737-800 A aeronave, um Boeing 737-800, tinha seis anos, de acordo com o site Flight Radar, que monitora voos em todo o mundo. Ainda segundo o site, o avião perdeu contato com as torres quando sobrevoava a cidade de Wuzhou, no sul do país. Altitude do voo despencou 6.000 metros em 15 segundos No momento, o voo estava a uma altitude de aproximadamente 8.870 metros. Apenas 15 segundos mais tarde, a altitude registrada pelo Flight Radar caiu para 2.766 metros e, 20 segundos depois, para apenas 900 metros. A aviação civil da China é considerada uma das mais seguras do mundo, e o último acidente no país ocorreu em 2010, quando 44 pessoas morreram na queda de um Embraer E-190, da Henan Airlines, quando o voo se aproximava do aeroporto de Yichun. As ações da Boeing caíram 8% nesta segunda-feira (21) após a notícia. 8 de 8 Avião com 132 pessoas cai na China — Foto: Editoria de arte/g1 Avião com 132 pessoas cai na China — Foto: Editoria de arte/g1 * Com agências internacionais. 15 vídeos China Newsletter G1 Created with Sketch. O que aconteceu hoje, diretamente no seu e-mail As notícias que você não pode perder diretamente no seu e-mail. Para se inscrever, entre ou crie uma Conta Globo gratuita. Inscreva-se e receba a newsletter Obrigado! Você acaba de se inscrever na newsletter Resumo do dia. Deseja receber as notícias mais importantes em tempo real? Ative as notificações do G1! Agora não Ativar Veja também Anterior Próximo Mais do G1 Acidente aéreoVÍDEO mostra o momento exato da queda do aviãoImagens foram obtidas pela agência Newsflare e divulgadas pela Reuters.Há 13 minutos G1 Mundo Aeronave que caiu é um Boeing com bom histórico de segurançaHá 1 hora Mundo VÍDEO: equipes de resgate trabalham no local do acidenteHá 1 horaUm mês após tragédiaPetrópolis: novo temporal deixa 5 mortos e 4 desaparecidosHá 4 horas Região Serrana PREVISÃO: chuva deve continuar hojeHá 4 horas'Rua encheu de novo em 15 minutos', diz moradorHá 4 horasCruzes que simbolizavam vítimas de fevereiro são levadas por inundaçãoHá 11 horas Região Serrana Cratera se abre na rua e 'engole' carro Há 11 horasVÍDEOS: chuva volta a causar inundações em PetrópolisHá 6 horas Rio de Janeiro Desinformação nas redesCriar e compartilhar fake news é crime? Veja o que diz a leiHá 5 horas Fato ou Fake Guia de ComprasMáquina de lavar roupa com abertura superior ou frontal? Saiba como escolherConheça 8 modelos de R$ 1.400 a R$ 8.000.Há 3 horas Guia de Compras Veja mais Últimas Notícias Globo Notícias © Copyright 2000-2022 Globo Comunicação e Participações S.A. princípios editoriais política de privacidade minha conta anuncie conosco Editorias menu g1 Editorias Agro Editorias Agro Primeira Página Globo Rural A Indústria-Riqueza do Brasil Ciência Editorias Ciência Primeira Página Viva Você Economia Editorias Economia Primeira Página Agro Economia Agro Primeira página Globo Rural Bitcoin Calculadoras Dólar Educação Financeira Imposto de Renda Mídia e Marketing Open banking Educação Editorias Educação Primeira Página App G1 Enem Enem Guia de Carreiras Teste Vocacional Universidades Empreendedorismo​ Editorias Empreendedorismo​ Primeira página pequenas empresas Menos 30 Fest Fato ou Fake Guia de compras Inovação Meio Ambiente Editorias Meio Ambiente Primeira Página Amazônia Globo Natureza Sustentabilidade​ Monitor da Violência Mundo Editorias Mundo Primeira página Guerra na Ucrânia Olha que legal Política Editorias Política Primeira Página Eleições 2022 Reforma da Previdência Pop & Arte Editorias Pop & Arte Primeira Página Cinema Games Música Tv e séries Lollapalooza Rock in Rio Saúde Editorias Saúde Primeira página Bem Estar Coronavirus Tecnologia Trabalho e Carreira​ Editorias Trabalho e Carreira​ Primeira página Concursos Vagas de emprego Turismo e Viagem Editorias Turismo e Viagem Primeira Página Descubra o Brasil Regiões menu g1 Regiões centro-oeste Regiões centro-oeste Distrito Federal centro-oeste Distrito Federal Primeira página Bom Dia DF DF1 DF2 Globo Comunidade DF O que fazer no DF Goiás centro-oeste Goiás Primeira página Bom Dia GO Bom dia sábado JA 1ª Edição JA 2ª Edição Jornal do Campo Esporte Mercado Imobiliário Mato Grosso centro-oeste Mato Grosso Primeira Página Bom Dia MT MT TV 1ª Edição MT Rural MT TV 2ª Edição Esporte Mato Grosso do Sul centro-oeste Mato Grosso do Sul Primeira Página Bom Dia MS MS TV 1ª Edição MS TV 2ª Edição MS Rural Esporte nordeste Regiões nordeste Alagoas nordeste Alagoas Primeira Página Bom Dia Alagoas AL TV 1ª Edição AL TV 2ª Edição Gazeta Rural Esporte Bahia nordeste Bahia Primeira Página Jornal da manhã Bahia Meio Dia BATV Bahia Agora Bahia Rural Esporte Ceará nordeste Ceará Primeira Página Bom Dia CE CETV 1ª Edição CETV 2ª Edição NE Rural Esporte Maranhão nordeste Maranhão Primeira Página Bom Dia Mirante JMTV 1ª Edição JMTV 2ª edição Mirante Rural Esporte Daqui Repórter Mirante Paraíba nordeste Paraíba Primeira Página Bom Dia Paraíba JPB 1ª Edição JPB 2ª Edição Paraíba Comunidade Esporte Pernambuco nordeste Pernambuco Recife e região Pernambuco Recife e região Primeira página Bom Dia PE NE 1 NE 2 Espaço PE Globo Comunidade PE Nordeste Viver e Preservar Educação Esporte Caruaru e região Pernambuco Caruaru e região Primeira Página Bom Dia PE ABTV 1ª Edição ABTV 2ª Edição Globo Comunidade Esporte Petrolina e região Pernambuco Petrolina e região Primeira Página Bom Dia Pernambuco GRTV 1ª Edição GRTV 2ª edição Esporte Piauí nordeste Piauí Primeira Página Bom Dia Piauí Bom dia Sábado PI TV 1ª edição PI TV 2ª Edição Clube Rural Esporte Rio Grande do Norte nordeste Rio Grande do Norte Primeira Página Bom Dia RN RN TV 1ª Edição RN TV 2ª edição Inter TV Rural Esporte Sergipe nordeste Sergipe Primeira página Bom Dia SE SETV 1ª Edição SETV 2ª Edição Estação Agrícola Esporte norte Regiões norte Acre norte Acre Primeira Página Bom Dia Amazônia JAC 1ª Edição JAC 2ª Edição Amazônia Rural Esporte Amapá norte Amapá Primeira Página Bom Dia Amazônia JAP 1ª Edição JAP 2ª Edição Amazônia Rural Esporte Amazonas norte Amazonas Primeira Página Bom Dia Amazônia JAM 1ª Edição JAM 2ª Edição Amazônia rural Esporte Pará norte Pará Belém e região Pará Belém e região Primeira Página Bom Dia Pará Jornal Liberal 1ª Edição Jornal Liberal 2ª Edição Liberal Comunidade É do Pará Esporte Santarém e região Pará Santarém e região Primeira Página Bom Dia Santarém Jornal Tapajós 1ª Edição Jornal Tapajós 2ª Edição Esporte Rondônia norte Rondônia Primeira Página Bom Dia Amazônia JRO 1ª Edição JRO 2ª Edição Amazônia Rural Esporte Roraima norte Roraima Primeira Página Bom Dia Amazônia JRR 1ª Edição JRR 2ª Edição Amazônia Rural Esporte Tocantins norte Tocantins Primeira Página Bom Dia Tocantins JA 1ª Edição JA 2ª Edição Jornal do Campo Esporte sudeste Regiões sudeste Espírito Santo sudeste Espírito Santo Primeira Página Bom dia Espírito Santo ESTV 1ª Edição ESTV 2ª Edição Jornal do Campo Agronégocios Educação Concursos Esporte Minas Gerais sudeste Minas Gerais Belo Horizonte e região Minas Gerais Belo Horizonte e região Primeira Página Bom dia Minas MG1 MG2 Rolê nas Gerais Terra de Minas pelas cozinhas de minas O que fazer em BH Esporte Centro-Oeste Minas Gerais Centro-Oeste Primeira Página Bom dia Minas MG TV 1ª Edição MG TV 2ª Edição MG Rural Integração notícia Esporte Grande Minas Minas Gerais Grande Minas Primeira página Inter TV Notícia MG Inter TV 1ª Edição MG Inter TV 2ª Edição Inter TV Rural É o bicho Esporte Sul de Minas Minas Gerais Sul de Minas Primeira Página Bom dia Cidade Jornal da EPTV 1ª Edição Jornal da EPTV 2ª Edição Terra da gente Esporte Triângulo Mineiro Minas Gerais Triângulo Mineiro Primeira Página Bom dia Minas Uberlândia Triângulo Mineiro Uberlândia MG TV 1ª Edição MGTV 2ª edição Uberaba Triângulo Mineiro Uberaba MGTV 1ª Edição MGTV 2ª Edição MG Rural Integração notícia Concursos Esporte Globo Esporte Vales de Minas Gerais Minas Gerais Vales de Minas Gerais Primeira Página Inter TV notícia MG Inter TV 1ª Edição MG Inter TV 2ª Edição Inter TV Rural É o bicho Esporte Zona da Mata Minas Gerais Zona da Mata Primeira Página Bom dia Minas MG TV 1ª Edição MG TV 2ª Edição MG Rural Integração notícia Esporte Globo Esporte Rio de Janeiro sudeste Rio de Janeiro Rio de Janeiro e região Rio de Janeiro Rio de Janeiro e região Primeira Página Bom dia Rio RJ1 RJ2 Globo Comunidade RJ O que fazer no RJ Fora do ponto Esporte Norte Fluminense Rio de Janeiro Norte Fluminense Primeira Página Bom dia Rio RJ TV Inter 1ª Edição RJ TV Inter 2ª Edição Inter TV Rural Esporte Região dos Lagos Rio de Janeiro Região dos Lagos Primeira Página Bom dia Rio RJ TV Inter 1ª Edição RJ TV Inter 2ª Edição Inter TV Rural Esporte Região Serrana Rio de Janeiro Região Serrana Primeira Página Bom dia Rio RJ TV Inter 1ª Edição RJ TV Inter 2ª Edição Inter TV Rural Esporte Sul e Costa Verde Rio de Janeiro Sul e Costa Verde Primeira Página Bom dia Rio RJ TV 1ª Edição RJ TV 2ª Edição Esporte São Paulo sudeste São Paulo São Paulo e região São Paulo São Paulo e região Primeira Página Bom Dia SP SP1 SP2 Antena Paulista O que fazer em SP Esporte Bauru e Marília São Paulo Bauru e Marília Primeira Página Bom Dia SP Bom Dia Cidade Tem Notícias 1ª Edição Tem Notícias 2ª Edição Nosso Campo Esporte Campinas e região São Paulo Campinas e região Primeira Página Bom Dia Cidade Jornal da EPTV 1ª Edição Jornal da EPTV 2ª Edição Terra da Gente Concursos Esporte Itapetininga e região São Paulo Itapetininga e região Primeira Página Bom Dia SP Bom Dia Cidade TEM Notícias 1ª Edição TEM Notícias 2ª Edição Antena Paulista Nosso Campo Resumo da Notícia Memória TEM Comunidade Esporte Mogi das Cruzes e Suzano São Paulo Mogi das Cruzes e Suzano Primeira Página Bom Dia Diário Diário TV 1ª Edição Diário TV 2ª Edição Diário Comunidade Concursos Esporte Piracicaba e região São Paulo Piracicaba e região Primeira Página Bom Dia Cidade Jornal da EPTV 1ª Edição Jornal da EPTV 2ª Edição Terra da Gente Esporte Prudente e região São Paulo Prudente e região Primeira Página Bom Dia Fronteira Bom Dia SP Fronteira Notícias 1ª Edição Fronteira Notícias 2ª Edição Esporte Ribeirão Preto e Franca São Paulo Ribeirão Preto e Franca Primeira Página Bom Dia Cidade Jornal da EPTV 1ª Edição Jornal da EPTV 2ª Edição Terra da Gente Esporte Rio Preto e Araçatuba São Paulo Rio Preto e Araçatuba Primeira Página Bom Dia SP Bom Dia Cidade TEM Notícias 1ª Edição TEM Notícias 2ª Edição Nosso Campo Esporte Santos e região São Paulo Santos e região Primeira Página Bom Dia Região Jornal Tribuna 1ª Edição Jornal Tribuna 2ª Edição Antena Paulista G1 em um Minuto Santos Viver Bem O Que Fazer Em Santos Culinária #13 Por Dentro do Porto Esporte São Carlos e Araraquara São Paulo São Carlos e Araraquara Primeira Página Bom Dia Cidade Jornal da EPTV 1ª Edição Jornal da EPTV 2ª edição Terra da Gente Sorocaba e Jundiaí São Paulo Sorocaba e Jundiaí Primeira Página Bom Dia SP Bom Dia Cidade Tem Notícias 1ª Edição Tem notícias 2ª Edição Nosso Campo Esporte Vale do Paraíba e região São Paulo Vale do Paraíba e região Primeira Página Bom Dia Vanguarda Link Vanguarda Jornal Vanguarda Vanguarda Comunidade Esporte sul Regiões sul Paraná sul Paraná Curitiba e Região Paraná Curitiba e Região Primeira Página Bom Dia Paraná Meio Dia Paraná – Curitiba Boa Noite Paraná – Curitiba Caminhos do Campo Bom Dia Sábado Esporte Campos Gerais e Sul Paraná Campos Gerais e Sul Primeira Página Bom Dia Paraná Meio Dia Paraná – Ponta Grossa Boa Noite Paraná – Ponta Grossa Caminhos do Campo Boa Noite Paraná – Guarapuava Bom Dia Sábado Esporte Norte e Noroeste Paraná Norte e Noroeste Primeira Página Bom Dia Paraná Meio Dia Paraná – Maringá Boa Noite Paraná – Maringá Caminhos do Campo Meio Dia Paraná – Londrina Boa Noite Paraná – Londrina Meio Dia Paraná - Noroeste Boa Noite Paraná – Noroeste Bom Dia Sábado Esporte Oeste e Sudoeste Paraná Oeste e Sudoeste Primeira Página Bom Dia Paraná Meio Dia Paraná – Foz do Iguaçu Boa Noite Paraná – Foz do Iguaçu Caminhos do Campo Meio Dia Paraná – Cascavel Boa Noite Paraná – Cascavel Bom Dia Sábado Esporte Rio Grande do Sul sul Rio Grande do Sul Primeira Página Bom Dia Rio Grande Jornal do Almoço RBS Notícias Campo e Lavoura Esporte Santa Catarina sul Santa Catarina Primeira Página Bom Dia Santa Catarina Jornal do Almoço NSC Notícias Nossa Santa Catarina Campo e Negócios Tech SC Esporte Telejornais menu g1 Telejornais Bom Dia Brasil Telejornais Bom Dia Brasil Primeira Página Redação História Vídeos Fantástico Telejornais Fantástico Primeira Página quadros e séries Fantástico quadros e séries isso a globo não mostra fant 360 a jornada da vida cadê o dinheiro que tava aqui? detetive virtual repórter por um dia shows e musicais gols do fantástico história vídeos vc no fantástico G1 em 1 Minuto Globo Repórter Telejornais Globo Repórter Primeira Página redação história receitas testes vídeos vc no globo repórter Globo Rural Telejornais Globo Rural Primeira Página agro guia do globo rural revista globo rural história vídeos vc no globo rural Hora 1 Telejornais Hora 1 Primeira Página história vídeos vc no hora um Jornal da Globo Telejornais Jornal da Globo Primeira Página redação história vídeos vc no jg Jornal Hoje Telejornais Jornal Hoje Primeira Página crônicas história vídeos vc no jh Jornal Nacional Telejornais Jornal Nacional Primeira Página jornal nacional 50 anos redação história vídeos vc no jornal nacional Pequenas Empresas Telejornais Pequenas Empresas Primeira Página pme quadros Pequenas Empresas quadros pegn.tec contato das empresas revista pegn história vídeos vc no pegn Profissão Repórter Telejornais Profissão Repórter Primeira Página equipe história vídeos vc no profissão repórter GloboNews menu g1 GloboNews Primeira Página jornais GloboNews jornais Estúdio i GloboNews Em Pauta GloboNews em Ponto Jornal das Dez Jornal GloboNews Conexão GloboNews Edição das 16 Edição das 18 Especial de Domingo programas GloboNews programas cidades e soluções diálogos com mario sergio conti em foco com Andreia Sadi globonews documentário globonews internacional globonews miriam leitão Papo de Política que mundo é esse? roberto d'avila podcasts GloboNews podcasts as histórias na globonews em movimento globonews internacional hub globonews papo de política globonews ao vivo Especial 25 Anos Converse com outras ideias canais globo programação redes sociais GloboNews redes sociais globonews time globonews História -- grupo globo princípios editoriais Blogs e Colunas Podcasts menu g1 Podcasts Todos o assunto Abuso À Mão Armada bem estar Cadê meu trampo desenrola, rio educação financeira Escuta Que O Filho É Teu Frango com Quiabo g1 ouviu isso é fantástico papo de política Resumão Diário Prazer, Renata Bichos na Escuta Isso Está Acontecendo Serviços menu g1 Serviços App g1 App g1 Enem Calculadoras Loterias Newsletter Previsão do Tempo Resumo do Dia Teste vocacional Vídeos Newsletter Especial Publicitário menu g1 Especial Publicitário A Vida É Pra Já Histórias reais, soluções digitais ibp Johnnie Walker Na Estrada com quem faz Inteligência Financeira Brumadinho – Restauração e Desenvolvimento VAE Voz dos Oceanos -- Princípios editoriais Equipe Acesse sua conta ou cadastre-se grátis grupo globo sair da conta\n"
     ]
    }
   ],
   "source": [
    "noticia = obter_texto('https://g1.globo.com/mundo/noticia/2022/03/21/aviao-com-133-passageiros-sofre-acidente-na-china.ghtml')\n",
    "print(noticia)"
   ]
  },
  {
   "cell_type": "code",
   "execution_count": 17,
   "metadata": {},
   "outputs": [],
   "source": [
    "doc = nlp(noticia)"
   ]
  },
  {
   "cell_type": "code",
   "execution_count": 18,
   "metadata": {},
   "outputs": [
    {
     "data": {
      "text/plain": [
       "353"
      ]
     },
     "execution_count": 18,
     "metadata": {},
     "output_type": "execute_result"
    }
   ],
   "source": [
    "len(doc.ents)"
   ]
  },
  {
   "cell_type": "code",
   "execution_count": 22,
   "metadata": {},
   "outputs": [
    {
     "data": {
      "text/plain": [
       "Counter({'MISC': 111, 'LOC': 187, 'PER': 21, 'ORG': 34})"
      ]
     },
     "execution_count": 22,
     "metadata": {},
     "output_type": "execute_result"
    }
   ],
   "source": [
    "Counter([ent.label_ for ent in doc.ents])"
   ]
  },
  {
   "cell_type": "code",
   "execution_count": 23,
   "metadata": {},
   "outputs": [
    {
     "data": {
      "text/plain": [
       "[('China', 17),\n",
       " ('Avião', 5),\n",
       " ('Rio de Janeiro', 5),\n",
       " ('vc', 5),\n",
       " ('GloboNews', 5),\n",
       " ('Guangxi', 4),\n",
       " ('Newsflare', 4),\n",
       " ('São Paulo', 4),\n",
       " ('Rio RJ', 4),\n",
       " ('Kunming', 3)]"
      ]
     },
     "execution_count": 23,
     "metadata": {},
     "output_type": "execute_result"
    }
   ],
   "source": [
    "Counter([ent.text for ent in doc.ents]).most_common(10)"
   ]
  }
 ],
 "metadata": {
  "interpreter": {
   "hash": "788ff9e221da96786f0787fa034c6a6d4ee2301f6a202844060c0567f22b56e1"
  },
  "kernelspec": {
   "display_name": "Python 3.9.7 ('nlp')",
   "language": "python",
   "name": "python3"
  },
  "language_info": {
   "codemirror_mode": {
    "name": "ipython",
    "version": 3
   },
   "file_extension": ".py",
   "mimetype": "text/x-python",
   "name": "python",
   "nbconvert_exporter": "python",
   "pygments_lexer": "ipython3",
   "version": "3.9.7"
  },
  "orig_nbformat": 4
 },
 "nbformat": 4,
 "nbformat_minor": 2
}
