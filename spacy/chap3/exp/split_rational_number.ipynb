{
 "cells": [
  {
   "cell_type": "code",
   "execution_count": 38,
   "metadata": {},
   "outputs": [],
   "source": [
    "import spacy\n",
    "\n",
    "pln = spacy.load('pt_core_news_md')"
   ]
  },
  {
   "cell_type": "code",
   "execution_count": 39,
   "metadata": {},
   "outputs": [
    {
     "data": {
      "text/plain": [
       "[('Ele', 'nsubj'),\n",
       " ('ganhou', 'ROOT'),\n",
       " ('5.5', 'obj'),\n",
       " ('milhões', 'flat'),\n",
       " ('de', 'case'),\n",
       " ('reais', 'nmod'),\n",
       " ('em', 'case'),\n",
       " ('2021', 'obl'),\n",
       " ('.', 'punct')]"
      ]
     },
     "execution_count": 39,
     "metadata": {},
     "output_type": "execute_result"
    }
   ],
   "source": [
    "doc = pln('Ele ganhou 5.5 milhões de reais em 2021.')\n",
    "[(token.text, token.dep_) for token in doc]"
   ]
  },
  {
   "cell_type": "code",
   "execution_count": 40,
   "metadata": {},
   "outputs": [],
   "source": [
    "def split_rational(doc):\n",
    "    rationals = [token.i for token in doc if token.tag_ == 'NUM' and '.' in token.text]\n",
    "    with doc.retokenize() as retokenizer:\n",
    "        for number in rationals:\n",
    "            head = doc[number].head.i\n",
    "            heads = [doc[head], doc[number], doc[number]]\n",
    "            orths = doc[number].text.split('.')\n",
    "            orths.insert(1, '.')\n",
    "            attrs = {\n",
    "                'TAG': ['NUM', '.', 'NUM'],\n",
    "                'DEP': ['obj', 'obj', 'obj']\n",
    "            }\n",
    "            retokenizer.split(doc[number], orths, heads=heads, attrs=attrs)\n",
    "    "
   ]
  },
  {
   "cell_type": "code",
   "execution_count": 41,
   "metadata": {},
   "outputs": [],
   "source": [
    "split_rational(doc)"
   ]
  },
  {
   "cell_type": "code",
   "execution_count": 42,
   "metadata": {},
   "outputs": [
    {
     "data": {
      "text/plain": [
       "[(Ele, 'PRON', 'nsubj', ganhou),\n",
       " (ganhou, 'VERB', 'ROOT', ganhou),\n",
       " (5, 'NUM', 'obj', ganhou),\n",
       " (., '.', 'obj', 5),\n",
       " (5, 'NUM', 'obj', 5),\n",
       " (milhões, 'NUM', 'flat', 5),\n",
       " (de, 'ADP', 'case', reais),\n",
       " (reais, 'NOUN', 'nmod', 5),\n",
       " (em, 'ADP', 'case', 2021),\n",
       " (2021, 'NUM', 'obl', ganhou),\n",
       " (., 'PUNCT', 'punct', ganhou)]"
      ]
     },
     "execution_count": 42,
     "metadata": {},
     "output_type": "execute_result"
    }
   ],
   "source": [
    "[(token, token.tag_, token.dep_, token.head) for token in doc]"
   ]
  }
 ],
 "metadata": {
  "interpreter": {
   "hash": "e55666fbbf217aa3df372b978577f47b6009e2f78e2ec76a584f49cd54a1e62c"
  },
  "kernelspec": {
   "display_name": "Python 2.7.18 64-bit",
   "language": "python",
   "name": "python3"
  },
  "language_info": {
   "codemirror_mode": {
    "name": "ipython",
    "version": 3
   },
   "file_extension": ".py",
   "mimetype": "text/x-python",
   "name": "python",
   "nbconvert_exporter": "python",
   "pygments_lexer": "ipython3",
   "version": "3.9.7"
  },
  "orig_nbformat": 4
 },
 "nbformat": 4,
 "nbformat_minor": 2
}
