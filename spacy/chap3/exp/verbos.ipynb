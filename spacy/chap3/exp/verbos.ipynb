{
 "cells": [
  {
   "cell_type": "code",
   "execution_count": 1,
   "metadata": {},
   "outputs": [
    {
     "name": "stderr",
     "output_type": "stream",
     "text": [
      "2022-03-21 22:18:16.396537: W tensorflow/stream_executor/platform/default/dso_loader.cc:64] Could not load dynamic library 'libcudart.so.11.0'; dlerror: libcudart.so.11.0: cannot open shared object file: No such file or directory; LD_LIBRARY_PATH: /home/nicolas/openssl/lib\n",
      "2022-03-21 22:18:16.396563: I tensorflow/stream_executor/cuda/cudart_stub.cc:29] Ignore above cudart dlerror if you do not have a GPU set up on your machine.\n"
     ]
    }
   ],
   "source": [
    "from bs4 import BeautifulSoup\n",
    "import requests\n",
    "from collections import Counter\n",
    "import spacy\n",
    "\n",
    "pnl = spacy.load('pt_core_news_md')"
   ]
  },
  {
   "cell_type": "code",
   "execution_count": 4,
   "metadata": {},
   "outputs": [],
   "source": [
    "def obter_texto(url):\n",
    "    res = requests.get(url)\n",
    "    html = res.text\n",
    "    soup = BeautifulSoup(html, 'html5lib')\n",
    "    for script in soup(['script', 'style', 'aside']):\n",
    "        script.extract()\n",
    "    text = soup.get_text()\n",
    "    return ' '.join(text.split())"
   ]
  },
  {
   "cell_type": "code",
   "execution_count": 6,
   "metadata": {},
   "outputs": [
    {
     "name": "stdout",
     "output_type": "stream",
     "text": [
      "Governo decide zerar imposto de importação sobre etanol até dezembro | Economia | G1 Economia fique por dentro Guerra na Ucrânia Queda de avião na China Chuvas em Petrópolis Dólar em queda Lollapalooza 2022 Vídeos no g1 Como você avalia a experiência de assistir este vídeo no g1? Muito ruim Muito boa Como podemos melhorar? Seguinte Queremos saber sua opinião Resposta enviada. Agradecemos sua participação. Governo decide zerar imposto de importação sobre etanol até dezembro Taxa atual é de 18% para trazer combustível de países externos ao Mercosul. Medida se soma ao pacote implementado pelo Executivo para tentar frear a alta dos combustíveis nas bombas. Por Ana Paula Castro e Mateus Rodrigues, TV Globo e g1 — Brasília 21/03/2022 20h10 Atualizado 21/03/2022 O governo federal anunciou nesta segunda-feira (21) que vai zerar o imposto de importação do etanol até 31 de dezembro deste ano. A decisão foi tomada pela Câmara de Comércio Exterior (Camex) do Ministério da Economia e ainda precisa ser publicada para entrar em vigor. Segundo o ministério, as duas medidas devem ser publicadas no Diário Oficial da União de quarta-feira (23). De acordo com o secretário-executivo do Ministério da Economia, Marcelo Guaranys, a medida pode baratear a gasolina nas bombas de combustível em até R$ 0,20 por litro. Isso não significa, no entanto, que a diferença será repassada ao consumidor, já que o cenário internacional continua instável. \"Isso é uma análise estática, os preços eventualmente podem continuar subindo. O que significa que, na prática, essa medida estaria diminuindo ou arrefecendo a dinâmica de crescimento numa magnitude da ordem de R$ 0,20\", explicou Guaranys. Atualmente, segundo o governo, o imposto é de 18% sobre o etanol que venha de fora dos países que integram o Mercosul. O Brasil também negocia cotas específicas de imposto zero com países como os Estados Unidos – acima do volume acordado, cada litro adicional está sujeito à tarifa de importação. Desde 2021, o governo vem adotando uma série de medidas para tentar frear a escalada do preço dos combustíveis nos postos – uma situação que se agravou ainda mais desde que a Rússia, grande produtora de petróleo, invadiu a Ucrânia em fevereiro e foi alvo de retaliações comerciais dos Estados Unidos e da União Europeia. Além de baratear o litro do etanol comum e do etanol aditivado vendido nos postos, a decisão pode ajudar a conter a alta dos preços da gasolina – que, por lei, é misturada com uma parcela de etanol antes de chegar ao tanque dos veículos. A alta expressiva no preço da gasolina levou os motoristas de carros flex a abastecerem os veículos, cada vez mais, com o etanol \"puro\" nas últimas semanas. Veja no vídeo abaixo: Com preço da gasolina nas alturas, a venda de etanol subiu mais de 20% em fevereiro \"O preço dos combustíveis apresentou alta muito acelerada nas últimas semanas, em função do conflito no Leste Europeu. O objetivo dessa redução do imposto de etanol é permitir que um preço mais baixo no etanol, diluído ao combustível, ao petróleo, possa apresentar preço ainda mais baixo pra população\", detalhou a secretária-executiva da Câmara de Comércio Exterior (Camex), Ana Paula Repezza. No Brasil, o etanol nacional e o importado são usados para a mesma função. O Brasil produz majoritariamente a partir da cana-de-açúcar, enquanto outros produtores, como os EUA, extraem o álcool do milho e de outras lavouras. Imposto zero para alimentos básicos A Camex também anunciou nesta segunda a redução a zero da alíquota de importação sobre seis itens da cesta básica que mais pesam no Índice Nacional de Preços ao Consumidor (INPC): café, margarina, queijo, macarrão, açúcar cristal e óleo de soja. As alíquotas de importação em vigor atualmente para esses produtos variam entre 9% (café e óleo de soja) e 28% (queijo). O governo também decidiu cortar em 10% a alíquota do imposto de importação cobrado sobre eletroeletrônicos, máquinas e equipamentos. Medida similar já tinha sido anunciada em março de 2021 – em relação ao início do ano passado, portanto, a redução chega a 20%. Segundo o governo, somadas, as renúncias fiscais anunciadas devem gerar uma renúncia fiscal de cerca de R$ 1 bilhão em 2022. \"Estamos preocupados com o impacto da inflação sobre a população. Estamos definindo redução a zero da tarifa de importação de pouco mais de sete produtos até o final do ano. Isso não resolve a inflação – isso é com política monetária –, mas gera um importante incentivo\", afirmou Marcelo Guaranys. A redução a zero da alíquota de importação sobre etanol e os seis itens da cesta básica terá vigência imediata, a partir da publicação da norma. Já a redução da alíquota do imposto de importação cobrado sobre eletroeletrônicos, máquinas e equipamentos entrará em vigor no dia 1º de abril. Rússia Ucrânia Newsletter G1 Created with Sketch. O que aconteceu hoje, diretamente no seu e-mail As notícias que você não pode perder diretamente no seu e-mail. Para se inscrever, entre ou crie uma Conta Globo gratuita. Inscreva-se e receba a newsletter Obrigado! Você acaba de se inscrever na newsletter Resumo do dia. Deseja receber as notícias mais importantes em tempo real? Ative as notificações do G1! Agora não Ativar Veja também Anterior Próximo Mais do G1 EconomiaDólar fecha a R$ 4,94, menor valor desde junho de 2021Há 5 horas Economia É hora de comprar dólar? Por que está caindo? Economistas respondemHá 5 horasQueda em montanhasGráfico mostra como foi queda de avião com 132 a bordo na ChinaHá 8 horas Mundo Modelo da Boeing tem bom histórico de segurançaHá 8 horasÉ #FAKE que vídeo gravado de janela de avião mostre acidente na China Há 8 horasAvião despencou 6 mil metros em 2 minutos; veja o que se sabeHá 3 horas Mundo Vídeo divulgado pela agência Reuters mostra queda Há 3 horas26 dias de guerraSIGA: Biden diz que Putin avalia usar armas químicas na UcrâniaHá 1 hora Mundo Rússia ameaça romper relações com os EUAHá 1 horaVÍDEO mostra explosão que matou 8 em shopping de KievHá 6 horas G1 Mundo Sobrevivente do Holocausto morre em bombardeio na UcrâniaHá 6 horasSANDRA COHEN: O judeu Zelensky foi duro com IsraelHá 6 horasEspírito Santo'Felizes e apreensivos', diz pai que vai buscar filho gerado na UcrâniaCriança gerada em barriga de aluguel ficará em abrigo subterrâneo até a chegada dos pais.Há 4 horas Espírito Santo Números da pandemia Média móvel de mortes por Covid fica abaixo de 300 após quase 2 mesesHá 2 horas Coronavírus 73,2 milhões tomaram a dose de reforço, 34% da populaçãoHá 2 horasRegião Serrana do RJHomem acompanha buscas por irmã em Petrópolis: 'Falei que isso ia cair'Há 4 horas Região Serrana Novo temporal mata 5 um mês após tragédia com 233 mortosHá 4 horasCratera se abre e deixa moradores sem acesso a bairroHá 4 horasFutebolFluminense vence Botafogo e abre vantagem na semi do CariocaHá 3 horas campeonato carioca Veja mais Últimas Notícias G1 Economia © Copyright 2000-2022 Globo Comunicação e Participações S.A. princípios editoriais política de privacidade minha conta anuncie conosco Editorias menu g1 Editorias Agro Editorias Agro Primeira Página Globo Rural A Indústria-Riqueza do Brasil Ciência Editorias Ciência Primeira Página Viva Você Economia Editorias Economia Primeira Página Agro Economia Agro Primeira página Globo Rural Bitcoin Calculadoras Dólar Educação Financeira Imposto de Renda Mídia e Marketing Open banking Educação Editorias Educação Primeira Página App G1 Enem Enem Guia de Carreiras Teste Vocacional Universidades Empreendedorismo​ Editorias Empreendedorismo​ Primeira página pequenas empresas Menos 30 Fest Fato ou Fake Guia de compras Inovação Meio Ambiente Editorias Meio Ambiente Primeira Página Amazônia Globo Natureza Sustentabilidade​ Monitor da Violência Mundo Editorias Mundo Primeira página Guerra na Ucrânia Olha que legal Política Editorias Política Primeira Página Eleições 2022 Reforma da Previdência Pop & Arte Editorias Pop & Arte Primeira Página Cinema Games Música Tv e séries Lollapalooza Rock in Rio Saúde Editorias Saúde Primeira página Bem Estar Coronavirus Tecnologia Trabalho e Carreira​ Editorias Trabalho e Carreira​ Primeira página Concursos Vagas de emprego Turismo e Viagem Editorias Turismo e Viagem Primeira Página Descubra o Brasil Regiões menu g1 Regiões centro-oeste Regiões centro-oeste Distrito Federal centro-oeste Distrito Federal Primeira página Bom Dia DF DF1 DF2 Globo Comunidade DF O que fazer no DF Goiás centro-oeste Goiás Primeira página Bom Dia GO Bom dia sábado JA 1ª Edição JA 2ª Edição Jornal do Campo Esporte Mercado Imobiliário Mato Grosso centro-oeste Mato Grosso Primeira Página Bom Dia MT MT TV 1ª Edição MT Rural MT TV 2ª Edição Esporte Mato Grosso do Sul centro-oeste Mato Grosso do Sul Primeira Página Bom Dia MS MS TV 1ª Edição MS TV 2ª Edição MS Rural Esporte nordeste Regiões nordeste Alagoas nordeste Alagoas Primeira Página Bom Dia Alagoas AL TV 1ª Edição AL TV 2ª Edição Gazeta Rural Esporte Bahia nordeste Bahia Primeira Página Jornal da manhã Bahia Meio Dia BATV Bahia Agora Bahia Rural Esporte Ceará nordeste Ceará Primeira Página Bom Dia CE CETV 1ª Edição CETV 2ª Edição NE Rural Esporte Maranhão nordeste Maranhão Primeira Página Bom Dia Mirante JMTV 1ª Edição JMTV 2ª edição Mirante Rural Esporte Daqui Repórter Mirante Paraíba nordeste Paraíba Primeira Página Bom Dia Paraíba JPB 1ª Edição JPB 2ª Edição Paraíba Comunidade Esporte Pernambuco nordeste Pernambuco Recife e região Pernambuco Recife e região Primeira página Bom Dia PE NE 1 NE 2 Espaço PE Globo Comunidade PE Nordeste Viver e Preservar Educação Esporte Caruaru e região Pernambuco Caruaru e região Primeira Página Bom Dia PE ABTV 1ª Edição ABTV 2ª Edição Globo Comunidade Esporte Petrolina e região Pernambuco Petrolina e região Primeira Página Bom Dia Pernambuco GRTV 1ª Edição GRTV 2ª edição Esporte Piauí nordeste Piauí Primeira Página Bom Dia Piauí Bom dia Sábado PI TV 1ª edição PI TV 2ª Edição Clube Rural Esporte Rio Grande do Norte nordeste Rio Grande do Norte Primeira Página Bom Dia RN RN TV 1ª Edição RN TV 2ª edição Inter TV Rural Esporte Sergipe nordeste Sergipe Primeira página Bom Dia SE SETV 1ª Edição SETV 2ª Edição Estação Agrícola Esporte norte Regiões norte Acre norte Acre Primeira Página Bom Dia Amazônia JAC 1ª Edição JAC 2ª Edição Amazônia Rural Esporte Amapá norte Amapá Primeira Página Bom Dia Amazônia JAP 1ª Edição JAP 2ª Edição Amazônia Rural Esporte Amazonas norte Amazonas Primeira Página Bom Dia Amazônia JAM 1ª Edição JAM 2ª Edição Amazônia rural Esporte Pará norte Pará Belém e região Pará Belém e região Primeira Página Bom Dia Pará Jornal Liberal 1ª Edição Jornal Liberal 2ª Edição Liberal Comunidade É do Pará Esporte Santarém e região Pará Santarém e região Primeira Página Bom Dia Santarém Jornal Tapajós 1ª Edição Jornal Tapajós 2ª Edição Esporte Rondônia norte Rondônia Primeira Página Bom Dia Amazônia JRO 1ª Edição JRO 2ª Edição Amazônia Rural Esporte Roraima norte Roraima Primeira Página Bom Dia Amazônia JRR 1ª Edição JRR 2ª Edição Amazônia Rural Esporte Tocantins norte Tocantins Primeira Página Bom Dia Tocantins JA 1ª Edição JA 2ª Edição Jornal do Campo Esporte sudeste Regiões sudeste Espírito Santo sudeste Espírito Santo Primeira Página Bom dia Espírito Santo ESTV 1ª Edição ESTV 2ª Edição Jornal do Campo Agronégocios Educação Concursos Esporte Minas Gerais sudeste Minas Gerais Belo Horizonte e região Minas Gerais Belo Horizonte e região Primeira Página Bom dia Minas MG1 MG2 Rolê nas Gerais Terra de Minas pelas cozinhas de minas O que fazer em BH Esporte Centro-Oeste Minas Gerais Centro-Oeste Primeira Página Bom dia Minas MG TV 1ª Edição MG TV 2ª Edição MG Rural Integração notícia Esporte Grande Minas Minas Gerais Grande Minas Primeira página Inter TV Notícia MG Inter TV 1ª Edição MG Inter TV 2ª Edição Inter TV Rural É o bicho Esporte Sul de Minas Minas Gerais Sul de Minas Primeira Página Bom dia Cidade Jornal da EPTV 1ª Edição Jornal da EPTV 2ª Edição Terra da gente Esporte Triângulo Mineiro Minas Gerais Triângulo Mineiro Primeira Página Bom dia Minas Uberlândia Triângulo Mineiro Uberlândia MG TV 1ª Edição MGTV 2ª edição Uberaba Triângulo Mineiro Uberaba MGTV 1ª Edição MGTV 2ª Edição MG Rural Integração notícia Concursos Esporte Globo Esporte Vales de Minas Gerais Minas Gerais Vales de Minas Gerais Primeira Página Inter TV notícia MG Inter TV 1ª Edição MG Inter TV 2ª Edição Inter TV Rural É o bicho Esporte Zona da Mata Minas Gerais Zona da Mata Primeira Página Bom dia Minas MG TV 1ª Edição MG TV 2ª Edição MG Rural Integração notícia Esporte Globo Esporte Rio de Janeiro sudeste Rio de Janeiro Rio de Janeiro e região Rio de Janeiro Rio de Janeiro e região Primeira Página Bom dia Rio RJ1 RJ2 Globo Comunidade RJ O que fazer no RJ Fora do ponto Esporte Norte Fluminense Rio de Janeiro Norte Fluminense Primeira Página Bom dia Rio RJ TV Inter 1ª Edição RJ TV Inter 2ª Edição Inter TV Rural Esporte Região dos Lagos Rio de Janeiro Região dos Lagos Primeira Página Bom dia Rio RJ TV Inter 1ª Edição RJ TV Inter 2ª Edição Inter TV Rural Esporte Região Serrana Rio de Janeiro Região Serrana Primeira Página Bom dia Rio RJ TV Inter 1ª Edição RJ TV Inter 2ª Edição Inter TV Rural Esporte Sul e Costa Verde Rio de Janeiro Sul e Costa Verde Primeira Página Bom dia Rio RJ TV 1ª Edição RJ TV 2ª Edição Esporte São Paulo sudeste São Paulo São Paulo e região São Paulo São Paulo e região Primeira Página Bom Dia SP SP1 SP2 Antena Paulista O que fazer em SP Esporte Bauru e Marília São Paulo Bauru e Marília Primeira Página Bom Dia SP Bom Dia Cidade Tem Notícias 1ª Edição Tem Notícias 2ª Edição Nosso Campo Esporte Campinas e região São Paulo Campinas e região Primeira Página Bom Dia Cidade Jornal da EPTV 1ª Edição Jornal da EPTV 2ª Edição Terra da Gente Concursos Esporte Itapetininga e região São Paulo Itapetininga e região Primeira Página Bom Dia SP Bom Dia Cidade TEM Notícias 1ª Edição TEM Notícias 2ª Edição Antena Paulista Nosso Campo Resumo da Notícia Memória TEM Comunidade Esporte Mogi das Cruzes e Suzano São Paulo Mogi das Cruzes e Suzano Primeira Página Bom Dia Diário Diário TV 1ª Edição Diário TV 2ª Edição Diário Comunidade Concursos Esporte Piracicaba e região São Paulo Piracicaba e região Primeira Página Bom Dia Cidade Jornal da EPTV 1ª Edição Jornal da EPTV 2ª Edição Terra da Gente Esporte Prudente e região São Paulo Prudente e região Primeira Página Bom Dia Fronteira Bom Dia SP Fronteira Notícias 1ª Edição Fronteira Notícias 2ª Edição Esporte Ribeirão Preto e Franca São Paulo Ribeirão Preto e Franca Primeira Página Bom Dia Cidade Jornal da EPTV 1ª Edição Jornal da EPTV 2ª Edição Terra da Gente Esporte Rio Preto e Araçatuba São Paulo Rio Preto e Araçatuba Primeira Página Bom Dia SP Bom Dia Cidade TEM Notícias 1ª Edição TEM Notícias 2ª Edição Nosso Campo Esporte Santos e região São Paulo Santos e região Primeira Página Bom Dia Região Jornal Tribuna 1ª Edição Jornal Tribuna 2ª Edição Antena Paulista G1 em um Minuto Santos Viver Bem O Que Fazer Em Santos Culinária #13 Por Dentro do Porto Esporte São Carlos e Araraquara São Paulo São Carlos e Araraquara Primeira Página Bom Dia Cidade Jornal da EPTV 1ª Edição Jornal da EPTV 2ª edição Terra da Gente Sorocaba e Jundiaí São Paulo Sorocaba e Jundiaí Primeira Página Bom Dia SP Bom Dia Cidade Tem Notícias 1ª Edição Tem notícias 2ª Edição Nosso Campo Esporte Vale do Paraíba e região São Paulo Vale do Paraíba e região Primeira Página Bom Dia Vanguarda Link Vanguarda Jornal Vanguarda Vanguarda Comunidade Esporte sul Regiões sul Paraná sul Paraná Curitiba e Região Paraná Curitiba e Região Primeira Página Bom Dia Paraná Meio Dia Paraná – Curitiba Boa Noite Paraná – Curitiba Caminhos do Campo Bom Dia Sábado Esporte Campos Gerais e Sul Paraná Campos Gerais e Sul Primeira Página Bom Dia Paraná Meio Dia Paraná – Ponta Grossa Boa Noite Paraná – Ponta Grossa Caminhos do Campo Boa Noite Paraná – Guarapuava Bom Dia Sábado Esporte Norte e Noroeste Paraná Norte e Noroeste Primeira Página Bom Dia Paraná Meio Dia Paraná – Maringá Boa Noite Paraná – Maringá Caminhos do Campo Meio Dia Paraná – Londrina Boa Noite Paraná – Londrina Meio Dia Paraná - Noroeste Boa Noite Paraná – Noroeste Bom Dia Sábado Esporte Oeste e Sudoeste Paraná Oeste e Sudoeste Primeira Página Bom Dia Paraná Meio Dia Paraná – Foz do Iguaçu Boa Noite Paraná – Foz do Iguaçu Caminhos do Campo Meio Dia Paraná – Cascavel Boa Noite Paraná – Cascavel Bom Dia Sábado Esporte Rio Grande do Sul sul Rio Grande do Sul Primeira Página Bom Dia Rio Grande Jornal do Almoço RBS Notícias Campo e Lavoura Esporte Santa Catarina sul Santa Catarina Primeira Página Bom Dia Santa Catarina Jornal do Almoço NSC Notícias Nossa Santa Catarina Campo e Negócios Tech SC Esporte Telejornais menu g1 Telejornais Bom Dia Brasil Telejornais Bom Dia Brasil Primeira Página Redação História Vídeos Fantástico Telejornais Fantástico Primeira Página quadros e séries Fantástico quadros e séries isso a globo não mostra fant 360 a jornada da vida cadê o dinheiro que tava aqui? detetive virtual repórter por um dia shows e musicais gols do fantástico história vídeos vc no fantástico G1 em 1 Minuto Globo Repórter Telejornais Globo Repórter Primeira Página redação história receitas testes vídeos vc no globo repórter Globo Rural Telejornais Globo Rural Primeira Página agro guia do globo rural revista globo rural história vídeos vc no globo rural Hora 1 Telejornais Hora 1 Primeira Página história vídeos vc no hora um Jornal da Globo Telejornais Jornal da Globo Primeira Página redação história vídeos vc no jg Jornal Hoje Telejornais Jornal Hoje Primeira Página crônicas história vídeos vc no jh Jornal Nacional Telejornais Jornal Nacional Primeira Página jornal nacional 50 anos redação história vídeos vc no jornal nacional Pequenas Empresas Telejornais Pequenas Empresas Primeira Página pme quadros Pequenas Empresas quadros pegn.tec contato das empresas revista pegn história vídeos vc no pegn Profissão Repórter Telejornais Profissão Repórter Primeira Página equipe história vídeos vc no profissão repórter GloboNews menu g1 GloboNews Primeira Página jornais GloboNews jornais Estúdio i GloboNews Em Pauta GloboNews em Ponto Jornal das Dez Jornal GloboNews Conexão GloboNews Edição das 16 Edição das 18 Especial de Domingo programas GloboNews programas cidades e soluções diálogos com mario sergio conti em foco com Andreia Sadi globonews documentário globonews internacional globonews miriam leitão Papo de Política que mundo é esse? roberto d'avila podcasts GloboNews podcasts as histórias na globonews em movimento globonews internacional hub globonews papo de política globonews ao vivo Especial 25 Anos Converse com outras ideias canais globo programação redes sociais GloboNews redes sociais globonews time globonews História -- grupo globo princípios editoriais Blogs e Colunas Podcasts menu g1 Podcasts Todos o assunto Abuso À Mão Armada bem estar Cadê meu trampo desenrola, rio educação financeira Escuta Que O Filho É Teu Frango com Quiabo g1 ouviu isso é fantástico papo de política Resumão Diário Prazer, Renata Bichos na Escuta Isso Está Acontecendo Serviços menu g1 Serviços App g1 App g1 Enem Calculadoras Loterias Newsletter Previsão do Tempo Resumo do Dia Teste vocacional Vídeos Newsletter Especial Publicitário menu g1 Especial Publicitário A Vida É Pra Já Histórias reais, soluções digitais ibp Johnnie Walker Na Estrada com quem faz Inteligência Financeira Brumadinho – Restauração e Desenvolvimento VAE Voz dos Oceanos -- Princípios editoriais Equipe Acesse sua conta ou cadastre-se grátis grupo globo sair da conta\n"
     ]
    }
   ],
   "source": [
    "noticia = obter_texto('https://g1.globo.com/economia/noticia/2022/03/21/governo-decide-zerar-imposto-de-importacao-sobre-etanol-ate-dezembro.ghtml')\n",
    "print(noticia)"
   ]
  },
  {
   "cell_type": "code",
   "execution_count": 7,
   "metadata": {},
   "outputs": [],
   "source": [
    "doc = pnl(noticia)"
   ]
  },
  {
   "cell_type": "code",
   "execution_count": 9,
   "metadata": {},
   "outputs": [
    {
     "data": {
      "text/plain": [
       "175"
      ]
     },
     "execution_count": 9,
     "metadata": {},
     "output_type": "execute_result"
    }
   ],
   "source": [
    "verbs = [token for token in doc if token.tag_ == 'VERB']\n",
    "len(verbs)"
   ]
  },
  {
   "cell_type": "code",
   "execution_count": 13,
   "metadata": {},
   "outputs": [
    {
     "data": {
      "text/plain": [
       "[(decide, 1),\n",
       " (zerar, 1),\n",
       " (fique, 1),\n",
       " (avalia, 1),\n",
       " (assistir, 1),\n",
       " (podemos, 1),\n",
       " (melhorar, 1),\n",
       " (Queremos, 1),\n",
       " (saber, 1),\n",
       " (enviada, 1)]"
      ]
     },
     "execution_count": 13,
     "metadata": {},
     "output_type": "execute_result"
    }
   ],
   "source": [
    "Counter(verbs).most_common(10)"
   ]
  }
 ],
 "metadata": {
  "interpreter": {
   "hash": "788ff9e221da96786f0787fa034c6a6d4ee2301f6a202844060c0567f22b56e1"
  },
  "kernelspec": {
   "display_name": "Python 3.9.7 ('nlp')",
   "language": "python",
   "name": "python3"
  },
  "language_info": {
   "codemirror_mode": {
    "name": "ipython",
    "version": 3
   },
   "file_extension": ".py",
   "mimetype": "text/x-python",
   "name": "python",
   "nbconvert_exporter": "python",
   "pygments_lexer": "ipython3",
   "version": "3.9.7"
  },
  "orig_nbformat": 4
 },
 "nbformat": 4,
 "nbformat_minor": 2
}
