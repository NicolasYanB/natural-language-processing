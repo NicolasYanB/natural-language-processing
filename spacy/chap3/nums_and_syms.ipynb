{
 "cells": [
  {
   "cell_type": "code",
   "execution_count": 1,
   "metadata": {},
   "outputs": [
    {
     "name": "stderr",
     "output_type": "stream",
     "text": [
      "2022-03-18 08:52:04.267030: W tensorflow/stream_executor/platform/default/dso_loader.cc:64] Could not load dynamic library 'libcudart.so.11.0'; dlerror: libcudart.so.11.0: cannot open shared object file: No such file or directory; LD_LIBRARY_PATH: /home/nicolas/openssl/lib\n",
      "2022-03-18 08:52:04.267055: I tensorflow/stream_executor/cuda/cudart_stub.cc:29] Ignore above cudart dlerror if you do not have a GPU set up on your machine.\n"
     ]
    }
   ],
   "source": [
    "import spacy\n",
    "nlp = spacy.load('en_core_web_md')"
   ]
  },
  {
   "cell_type": "code",
   "execution_count": 2,
   "metadata": {},
   "outputs": [
    {
     "name": "stdout",
     "output_type": "stream",
     "text": [
      "('He', 'PRP', 'pronoun, personal')\n",
      "('earned', 'VBD', 'verb, past tense')\n",
      "('$', '$', 'symbol, currency')\n",
      "('5.5', 'CD', 'cardinal number')\n",
      "('million', 'CD', 'cardinal number')\n",
      "('in', 'IN', 'conjunction, subordinating or preposition')\n",
      "('2020', 'CD', 'cardinal number')\n",
      "('and', 'CC', 'conjunction, coordinating')\n",
      "('paid', 'VBD', 'verb, past tense')\n",
      "('%', 'NN', 'noun, singular or mass')\n",
      "('35', 'CD', 'cardinal number')\n",
      "('tax', 'NN', 'noun, singular or mass')\n",
      "('.', '.', 'punctuation mark, sentence closer')\n"
     ]
    }
   ],
   "source": [
    "doc = nlp(\"He earned $5.5 million in 2020 and paid %35 tax.\")\n",
    "for token in doc:\n",
    "    print((token.text, token.tag_, spacy.explain(token.tag_)))"
   ]
  }
 ],
 "metadata": {
  "interpreter": {
   "hash": "788ff9e221da96786f0787fa034c6a6d4ee2301f6a202844060c0567f22b56e1"
  },
  "kernelspec": {
   "display_name": "Python 3.9.7 ('nlp')",
   "language": "python",
   "name": "python3"
  },
  "language_info": {
   "codemirror_mode": {
    "name": "ipython",
    "version": 3
   },
   "file_extension": ".py",
   "mimetype": "text/x-python",
   "name": "python",
   "nbconvert_exporter": "python",
   "pygments_lexer": "ipython3",
   "version": "3.9.7"
  },
  "orig_nbformat": 4
 },
 "nbformat": 4,
 "nbformat_minor": 2
}
