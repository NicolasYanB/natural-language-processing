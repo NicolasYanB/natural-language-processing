{
 "cells": [
  {
   "cell_type": "code",
   "execution_count": 2,
   "metadata": {},
   "outputs": [
    {
     "name": "stderr",
     "output_type": "stream",
     "text": [
      "2022-03-21 09:43:59.477188: W tensorflow/stream_executor/platform/default/dso_loader.cc:64] Could not load dynamic library 'libcudart.so.11.0'; dlerror: libcudart.so.11.0: cannot open shared object file: No such file or directory; LD_LIBRARY_PATH: /home/nicolas/openssl/lib\n",
      "2022-03-21 09:43:59.477214: I tensorflow/stream_executor/cuda/cudart_stub.cc:29] Ignore above cudart dlerror if you do not have a GPU set up on your machine.\n"
     ]
    }
   ],
   "source": [
    "from bs4 import BeautifulSoup\n",
    "import requests\n",
    "import spacy"
   ]
  },
  {
   "cell_type": "code",
   "execution_count": 10,
   "metadata": {},
   "outputs": [],
   "source": [
    "def url_text(url_string):\n",
    "    res = requests.get(url_string)\n",
    "    html = res.text\n",
    "    soup = BeautifulSoup(html, 'html5lib')\n",
    "    for script in soup(['script', 'style', 'aside']):\n",
    "        script.extract()\n",
    "    text = soup.get_text()\n",
    "    return ' '.join(text.split())"
   ]
  },
  {
   "cell_type": "code",
   "execution_count": 11,
   "metadata": {},
   "outputs": [],
   "source": [
    "ny_art = url_text(\"https://www.nytimes.com/2021/01/12/opinion/trump-america-allies.html\")"
   ]
  },
  {
   "cell_type": "code",
   "execution_count": 5,
   "metadata": {},
   "outputs": [],
   "source": [
    "nlp = spacy.load('en_core_web_md')\n",
    "doc = nlp(ny_art)"
   ]
  },
  {
   "cell_type": "code",
   "execution_count": 6,
   "metadata": {},
   "outputs": [
    {
     "data": {
      "text/plain": [
       "129"
      ]
     },
     "execution_count": 6,
     "metadata": {},
     "output_type": "execute_result"
    }
   ],
   "source": [
    "len(doc.ents)"
   ]
  },
  {
   "cell_type": "code",
   "execution_count": 7,
   "metadata": {},
   "outputs": [
    {
     "data": {
      "text/plain": [
       "Counter({'ORG': 21,\n",
       "         'GPE': 37,\n",
       "         'DATE': 14,\n",
       "         'CARDINAL': 5,\n",
       "         'PERSON': 24,\n",
       "         'NORP': 22,\n",
       "         'TIME': 1,\n",
       "         'LOC': 2,\n",
       "         'WORK_OF_ART': 1,\n",
       "         'PRODUCT': 2})"
      ]
     },
     "execution_count": 7,
     "metadata": {},
     "output_type": "execute_result"
    }
   ],
   "source": [
    "from collections import Counter\n",
    "labels = [ent.label_ for ent in doc.ents]\n",
    "Counter(labels)"
   ]
  },
  {
   "cell_type": "code",
   "execution_count": 8,
   "metadata": {},
   "outputs": [
    {
     "data": {
      "text/plain": [
       "[('America', 14),\n",
       " ('American', 7),\n",
       " ('China', 6),\n",
       " ('Biden', 5),\n",
       " ('Capitol', 4),\n",
       " ('Trump', 4),\n",
       " ('the United States', 3),\n",
       " ('Washington', 3),\n",
       " ('Europeans', 3),\n",
       " ('Americans', 3)]"
      ]
     },
     "execution_count": 8,
     "metadata": {},
     "output_type": "execute_result"
    }
   ],
   "source": [
    "items = [ent.text for ent in doc.ents]\n",
    "Counter(items).most_common(10)"
   ]
  },
  {
   "cell_type": "code",
   "execution_count": 9,
   "metadata": {},
   "outputs": [
    {
     "data": {
      "text/plain": [
       "(contentSkip,\n",
       " America,\n",
       " America,\n",
       " U.S.,\n",
       " U.S.,\n",
       " Jan. 12,\n",
       " 2021A,\n",
       " Rome,\n",
       " Donald Tramp,\n",
       " Thursday,\n",
       " Andrew Medichini,\n",
       " 10,\n",
       " each month,\n",
       " appBy Ivan KrastevMr,\n",
       " Krastev,\n",
       " Opinion,\n",
       " 阅读简体中文版閱讀繁體中文版Donald Trump,\n",
       " America,\n",
       " America,\n",
       " Russian,\n",
       " Chinese,\n",
       " Iranian,\n",
       " Jan. 6,\n",
       " Capitol,\n",
       " Ukraine,\n",
       " Georgia,\n",
       " American,\n",
       " American,\n",
       " the United States,\n",
       " Trump,\n",
       " American,\n",
       " Congress,\n",
       " the last Civil War,\n",
       " 19th-century,\n",
       " German,\n",
       " Otto von Bismarck,\n",
       " the United States of America,\n",
       " America,\n",
       " Capitol,\n",
       " Trump,\n",
       " his last hours,\n",
       " American,\n",
       " American,\n",
       " Washington,\n",
       " Washington,\n",
       " Capitol,\n",
       " America,\n",
       " just weeks,\n",
       " America,\n",
       " Russia,\n",
       " at least 10,\n",
       " Four years,\n",
       " Trump,\n",
       " Joe Biden,\n",
       " two,\n",
       " American-European,\n",
       " China,\n",
       " Biden,\n",
       " America,\n",
       " Recep Tayyip Erdogan,\n",
       " Turkey,\n",
       " Jair Bolsonaro,\n",
       " Brazil,\n",
       " Washington,\n",
       " Russia,\n",
       " China,\n",
       " Sullivan,\n",
       " Biden,\n",
       " China,\n",
       " Just a week ago,\n",
       " European,\n",
       " Sullivan,\n",
       " Europe,\n",
       " America,\n",
       " China,\n",
       " Biden,\n",
       " Europeans,\n",
       " China,\n",
       " German,\n",
       " Chinese,\n",
       " the European Union’s,\n",
       " America,\n",
       " Christophe Ena,\n",
       " the European Council on Foreign Relations,\n",
       " the weeks,\n",
       " American,\n",
       " the day,\n",
       " Biden,\n",
       " Europeans,\n",
       " America,\n",
       " the next 10 years,\n",
       " China,\n",
       " the United States,\n",
       " Germans,\n",
       " Trump,\n",
       " Americans,\n",
       " pro-Trump,\n",
       " Congress,\n",
       " America,\n",
       " Bill Clinton,\n",
       " Americans,\n",
       " Biden,\n",
       " the White House,\n",
       " the United States,\n",
       " Americans,\n",
       " Europeans,\n",
       " the past century,\n",
       " America,\n",
       " the days,\n",
       " Capitol,\n",
       " Europe,\n",
       " American,\n",
       " America,\n",
       " Ivan Krastev,\n",
       " Opinion,\n",
       " the Center for Liberal Strategies,\n",
       " the Institute for Human Sciences,\n",
       " Vienna,\n",
       " Is It Tomorrow Yet,\n",
       " Times,\n",
       " The New York Times Opinion,\n",
       " Facebook,\n",
       " Twitter,\n",
       " @NYTopinion,\n",
       " Instagram,\n",
       " AdvertisementContinue,\n",
       " 2022,\n",
       " The New York Times CompanyNYTCoContact,\n",
       " usAdvertiseT Brand StudioYour Ad ChoicesPrivacy PolicyTerms of)"
      ]
     },
     "execution_count": 9,
     "metadata": {},
     "output_type": "execute_result"
    }
   ],
   "source": [
    "doc.ents"
   ]
  }
 ],
 "metadata": {
  "interpreter": {
   "hash": "788ff9e221da96786f0787fa034c6a6d4ee2301f6a202844060c0567f22b56e1"
  },
  "kernelspec": {
   "display_name": "Python 3.9.7 ('nlp')",
   "language": "python",
   "name": "python3"
  },
  "language_info": {
   "codemirror_mode": {
    "name": "ipython",
    "version": 3
   },
   "file_extension": ".py",
   "mimetype": "text/x-python",
   "name": "python",
   "nbconvert_exporter": "python",
   "pygments_lexer": "ipython3",
   "version": "3.9.7"
  },
  "orig_nbformat": 4
 },
 "nbformat": 4,
 "nbformat_minor": 2
}
