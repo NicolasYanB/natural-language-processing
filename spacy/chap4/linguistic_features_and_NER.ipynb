{
 "cells": [
  {
   "cell_type": "code",
   "execution_count": 1,
   "metadata": {},
   "outputs": [
    {
     "name": "stderr",
     "output_type": "stream",
     "text": [
      "2022-04-14 14:39:50.781093: W tensorflow/stream_executor/platform/default/dso_loader.cc:64] Could not load dynamic library 'libcudart.so.11.0'; dlerror: libcudart.so.11.0: cannot open shared object file: No such file or directory; LD_LIBRARY_PATH: /home/nicolas/openssl/lib\n",
      "2022-04-14 14:39:50.781119: I tensorflow/stream_executor/cuda/cudart_stub.cc:29] Ignore above cudart dlerror if you do not have a GPU set up on your machine.\n"
     ]
    }
   ],
   "source": [
    "import spacy\n",
    "\n",
    "nlp = spacy.load('en_core_web_md')"
   ]
  },
  {
   "cell_type": "code",
   "execution_count": 2,
   "metadata": {},
   "outputs": [],
   "source": [
    "doc = nlp('Einstein lived in Zurich.')"
   ]
  },
  {
   "cell_type": "code",
   "execution_count": 3,
   "metadata": {},
   "outputs": [
    {
     "data": {
      "text/plain": [
       "[('Einstein', 'PERSON'), ('Zurich', 'GPE')]"
      ]
     },
     "execution_count": 3,
     "metadata": {},
     "output_type": "execute_result"
    }
   ],
   "source": [
    "[(ent.text, ent.label_) for ent in doc.ents]"
   ]
  },
  {
   "cell_type": "code",
   "execution_count": 4,
   "metadata": {},
   "outputs": [],
   "source": [
    "person_ents = [ent for ent in doc.ents if ent.label_ == 'PERSON']"
   ]
  },
  {
   "cell_type": "code",
   "execution_count": 5,
   "metadata": {},
   "outputs": [
    {
     "name": "stdout",
     "output_type": "stream",
     "text": [
      "{'person': Einstein, 'city': [Zurich], 'past': True}\n"
     ]
    }
   ],
   "source": [
    "for person_ent in person_ents:\n",
    "    head = person_ent[-1].head\n",
    "    if head.lemma_ == 'live':\n",
    "        preps = [token for token in head.children if token.dep_ == 'prep']\n",
    "        for prep in preps:\n",
    "            places = [token for token in prep.children if token.ent_type_ == 'GPE']\n",
    "            print({'person': person_ent, 'city': places, 'past': head.tag_ == 'VBD'})"
   ]
  }
 ],
 "metadata": {
  "interpreter": {
   "hash": "788ff9e221da96786f0787fa034c6a6d4ee2301f6a202844060c0567f22b56e1"
  },
  "kernelspec": {
   "display_name": "Python 3.9.7 ('nlp')",
   "language": "python",
   "name": "python3"
  },
  "language_info": {
   "codemirror_mode": {
    "name": "ipython",
    "version": 3
   },
   "file_extension": ".py",
   "mimetype": "text/x-python",
   "name": "python",
   "nbconvert_exporter": "python",
   "pygments_lexer": "ipython3",
   "version": "3.9.7"
  },
  "orig_nbformat": 4
 },
 "nbformat": 4,
 "nbformat_minor": 2
}
